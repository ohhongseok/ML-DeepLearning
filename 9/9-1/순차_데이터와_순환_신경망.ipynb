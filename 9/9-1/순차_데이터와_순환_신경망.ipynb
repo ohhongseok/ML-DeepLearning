{
  "nbformat": 4,
  "nbformat_minor": 0,
  "metadata": {
    "colab": {
      "name": "순차 데이터와 순환 신경망.ipynb",
      "provenance": [],
      "authorship_tag": "ABX9TyPODt2dhJTH7Ce9gdTkWZFT",
      "include_colab_link": true
    },
    "kernelspec": {
      "name": "python3",
      "display_name": "Python 3"
    },
    "language_info": {
      "name": "python"
    }
  },
  "cells": [
    {
      "cell_type": "markdown",
      "metadata": {
        "id": "view-in-github",
        "colab_type": "text"
      },
      "source": [
        "<a href=\"https://colab.research.google.com/github/ohhongseok/ML-DeepLearning/blob/main/9/9-1/%EC%88%9C%EC%B0%A8_%EB%8D%B0%EC%9D%B4%ED%84%B0%EC%99%80_%EC%88%9C%ED%99%98_%EC%8B%A0%EA%B2%BD%EB%A7%9D.ipynb\" target=\"_parent\"><img src=\"https://colab.research.google.com/assets/colab-badge.svg\" alt=\"Open In Colab\"/></a>"
      ]
    },
    {
      "cell_type": "markdown",
      "source": [
        "# 이번장 키워드\n",
        " - 순차 데이터\n",
        " - 순환 신경망\n",
        " - 셀\n",
        " - 은닉 상태 "
      ],
      "metadata": {
        "id": "ZFFI--4o-Zp-"
      }
    },
    {
      "cell_type": "code",
      "execution_count": null,
      "metadata": {
        "id": "nA3JCD73-OCS"
      },
      "outputs": [],
      "source": [
        ""
      ]
    }
  ]
}