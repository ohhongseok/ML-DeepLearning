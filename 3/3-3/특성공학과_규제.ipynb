{
  "nbformat": 4,
  "nbformat_minor": 0,
  "metadata": {
    "colab": {
      "name": "특성공학과 규제.ipynb",
      "provenance": [],
      "authorship_tag": "ABX9TyOwbzu8i6as1xIMxJ8hsEKt",
      "include_colab_link": true
    },
    "kernelspec": {
      "name": "python3",
      "display_name": "Python 3"
    },
    "language_info": {
      "name": "python"
    }
  },
  "cells": [
    {
      "cell_type": "markdown",
      "metadata": {
        "id": "view-in-github",
        "colab_type": "text"
      },
      "source": [
        "<a href=\"https://colab.research.google.com/github/ohhongseok/ML-DeepLearning/blob/main/3/3-3/%ED%8A%B9%EC%84%B1%EA%B3%B5%ED%95%99%EA%B3%BC_%EA%B7%9C%EC%A0%9C.ipynb\" target=\"_parent\"><img src=\"https://colab.research.google.com/assets/colab-badge.svg\" alt=\"Open In Colab\"/></a>"
      ]
    },
    {
      "cell_type": "markdown",
      "source": [
        "# 이번장 키워드 및 핵심 \n",
        " - 다중회귀 / 특성공학 / 릿지/ 라쏘 / 하이퍼파라미터\n",
        " - 다중회귀 : 여러개의 특성을 사용한 선형회귀 (평면 모델)\n",
        "  > 선형회귀 : 하나의 특성을 사용한 선형 회귀 모델 (직선 모델)\n",
        " - 특성공학 : 기존의 특성을 이용해 새로운 특성을 뽑아내는 작업을 특성공학이라 한다.\n"
      ],
      "metadata": {
        "id": "1V09QFTt9XRT"
      }
    },
    {
      "cell_type": "code",
      "execution_count": 38,
      "metadata": {
        "colab": {
          "base_uri": "https://localhost:8080/"
        },
        "id": "LWAiYXyF9I0N",
        "outputId": "72fa6418-a227-4a42-d0b1-9c2d2c286df7"
      },
      "outputs": [
        {
          "output_type": "stream",
          "name": "stdout",
          "text": [
            "[[ 8.4   2.11  1.41]\n",
            " [13.7   3.53  2.  ]\n",
            " [15.    3.82  2.43]\n",
            " [16.2   4.59  2.63]\n",
            " [17.4   4.59  2.94]\n",
            " [18.    5.22  3.32]\n",
            " [18.7   5.2   3.12]\n",
            " [19.    5.64  3.05]\n",
            " [19.6   5.14  3.04]\n",
            " [20.    5.08  2.77]\n",
            " [21.    5.69  3.56]\n",
            " [21.    5.92  3.31]\n",
            " [21.    5.69  3.67]\n",
            " [21.3   6.38  3.53]\n",
            " [22.    6.11  3.41]\n",
            " [22.    5.64  3.52]\n",
            " [22.    6.11  3.52]\n",
            " [22.    5.88  3.52]\n",
            " [22.    5.52  4.  ]\n",
            " [22.5   5.86  3.62]\n",
            " [22.5   6.79  3.62]\n",
            " [22.7   5.95  3.63]\n",
            " [23.    5.22  3.63]\n",
            " [23.5   6.28  3.72]\n",
            " [24.    7.29  3.72]\n",
            " [24.    6.38  3.82]\n",
            " [24.6   6.73  4.17]\n",
            " [25.    6.44  3.68]\n",
            " [25.6   6.56  4.24]\n",
            " [26.5   7.17  4.14]\n",
            " [27.3   8.32  5.14]\n",
            " [27.5   7.17  4.34]\n",
            " [27.5   7.05  4.34]\n",
            " [27.5   7.28  4.57]\n",
            " [28.    7.82  4.2 ]\n",
            " [28.7   7.59  4.64]\n",
            " [30.    7.62  4.77]\n",
            " [32.8  10.03  6.02]\n",
            " [34.5  10.26  6.39]\n",
            " [35.   11.49  7.8 ]\n",
            " [36.5  10.88  6.86]\n",
            " [36.   10.61  6.74]\n",
            " [37.   10.84  6.26]\n",
            " [37.   10.57  6.37]\n",
            " [39.   11.14  7.49]\n",
            " [39.   11.14  6.  ]\n",
            " [39.   12.43  7.35]\n",
            " [40.   11.93  7.11]\n",
            " [40.   11.73  7.22]\n",
            " [40.   12.38  7.46]\n",
            " [40.   11.14  6.63]\n",
            " [42.   12.8   6.87]\n",
            " [43.   11.93  7.28]\n",
            " [43.   12.51  7.42]\n",
            " [43.5  12.6   8.14]\n",
            " [44.   12.49  7.6 ]]\n"
          ]
        }
      ],
      "source": [
        "import pandas as pd\n",
        "import numpy as np\n",
        "df = pd.read_csv('https://bit.ly/perch_csv_data')\n",
        "\n",
        "df.head(10)\n",
        "# 특성데이터 무게, 높이, 길이 값(특성이 3개로 늘어남)\n",
        "perch_full = df.to_numpy()\n",
        "print(perch_full)"
      ]
    },
    {
      "cell_type": "code",
      "source": [
        "# 타겟 데이터\n",
        "perch_weight = np.array([5.9, 32.0, 40.0, 51.5, 70.0, 100.0, 78.0, 80.0, 85.0, 85.0, 110.0,\n",
        "       115.0, 125.0, 130.0, 120.0, 120.0, 130.0, 135.0, 110.0, 130.0,\n",
        "       150.0, 145.0, 150.0, 170.0, 225.0, 145.0, 188.0, 180.0, 197.0,\n",
        "       218.0, 300.0, 260.0, 265.0, 250.0, 250.0, 300.0, 320.0, 514.0,\n",
        "       556.0, 840.0, 685.0, 700.0, 700.0, 690.0, 900.0, 650.0, 820.0,\n",
        "       850.0, 900.0, 1015.0, 820.0, 1100.0, 1000.0, 1100.0, 1000.0,\n",
        "       1000.0])"
      ],
      "metadata": {
        "id": "XtRzjPalLij_"
      },
      "execution_count": 39,
      "outputs": []
    },
    {
      "cell_type": "code",
      "source": [
        "# 타겟데이터와 트레이닝 데이터로 나누기\n",
        "from sklearn.model_selection import train_test_split\n",
        "train_input, test_input ,train_target,test_target = train_test_split(perch_full,perch_weight,random_state=42)"
      ],
      "metadata": {
        "id": "ltTZQI8VT96t"
      },
      "execution_count": 40,
      "outputs": []
    },
    {
      "cell_type": "markdown",
      "source": [
        "#train_test_split()\n",
        " - sklearn 내의 model_selection 패키지 안에 있는 모듈이다.\n",
        " - 모듈안에 들어가는 옵션값은 아래와 같다.\n",
        "  > data : 전체 학습 데이터, 이 예제에서는 perch_full 이다. <br>\n",
        "  > target : 전체 학습데이터에 대한 target(결과값), 이 예제에서는 perch_weight 이다.<br>\n",
        "  > test_size : 테스트셋 구성비율, test_size=0.2는 테스트데이터를 전체 데이터셋중 20% 로 한다는 것 이며, 자동으로 train_tize는 0.8(80%)가 된다. 기본 default 값은 test_size = 0.25 이다.<br>\n",
        "  > shuffle : 데이터를 나누기 이전, 데이터를 섞을지의 여부를 나타낸다. 기본은 True 이다. <br>\n",
        "  > startify : 해당 옵션값은 분류에서 사용되며, class의 비율을 한쪽에 쏠리지 않게 해준다. (train 내의 0 /1 test 내의 0 / 1) 기본은 None 이다.<br>\n",
        "  > random_state : 세트를 섞을때 해당 int 값을 보고 섞으며, 이 값으 고정해 두고 튜닝해야 메번 데이터셋이 변경되는것을 방지할 수 있다. "
      ],
      "metadata": {
        "id": "PHOSzInfUc2o"
      }
    },
    {
      "cell_type": "code",
      "source": [
        "# 사이킷런의 변환기\n",
        "from sklearn.preprocessing import PolynomialFeatures"
      ],
      "metadata": {
        "id": "2xAV1rrj2rCc"
      },
      "execution_count": 41,
      "outputs": []
    },
    {
      "cell_type": "markdown",
      "source": [
        "# PolynomialFeatures\n",
        "\n",
        " - 사이킷런이 특성을 만들거나 전처리하기 위한 다양한 클래스를 제공해주는 모듈\n",
        " - 이러한 클래스를 변환기(transformer) 라고 한다.\n",
        " - 변환기에는 아래와 같은 메서드를 제공한다.\n",
        "  > .fit() : 새롭게 만들 특성조합을 찾는다. <br>\n",
        "  > .transform() : 실제로 데이터를 변환한다. <br>\n",
        " - 주의 : 반드시 fit()을 먼저 진행하여 찾은 후에 transform을 진행해야 한다. \n",
        "  > add. 두 메서드를 합친 fit_transform도 존재한다. "
      ],
      "metadata": {
        "id": "lbRQBf-M6J3K"
      }
    },
    {
      "cell_type": "code",
      "source": [
        "poly = PolynomialFeatures()\n",
        "poly.fit([[2,3]]) # 새롭게 만들 특성조합을 찾기\n",
        "\n",
        "print(poly.transform([[2,3]])) # 위에서 fit으로 찾은 특성을 활용해 실제로 특성 데이터를 변환한다.\n",
        "# 이 예제에서는 총 6개의 특성이 새로 생긴다.\n"
      ],
      "metadata": {
        "colab": {
          "base_uri": "https://localhost:8080/"
        },
        "id": "bF78OvGb6njh",
        "outputId": "05da1e67-7418-4a04-b5fe-57c75eb0d747"
      },
      "execution_count": 42,
      "outputs": [
        {
          "output_type": "stream",
          "name": "stdout",
          "text": [
            "[[1. 2. 3. 4. 6. 9.]]\n"
          ]
        }
      ]
    },
    {
      "cell_type": "markdown",
      "source": [
        "# 특성에 대한 add\n",
        "\n",
        " - 1이 생긴 이유에 대해\n",
        "  > 위의 특성을 통해 다항 회귀식을 보면 다음과 같다. <br>\n",
        "  무게 = a*길이 + b*높이 + c*두께 +d*1 <br>\n",
        "  선형방정식에서 절편(d)는 항상 1과 곱해지는 값 이다. 하지만 사이킷 런 내에서 자동으로 절편을 추가 하므로, 굳이 새롭게 특성을 찾아서 만들 필요가 없다.(fit 내에서  1이 나오지 않아도 된다.)<br>\n",
        "  따라서 `poly = PolynomialFeatures(include_bias = False)` 를 추가하여 1을 제와한 새로운 특성을 만든다.\n"
      ],
      "metadata": {
        "id": "YH8DPmM6D-FE"
      }
    },
    {
      "cell_type": "code",
      "source": [
        "poly = PolynomialFeatures(include_bias = False) # 1의 특성을 빼도록 파라미터 추가 \n",
        "poly.fit([[2,3]]) # 다시 특성 찾고\n",
        "print(poly.transform([[2,3]])) # 특성 결과 출력\n",
        "# 이렇게 하면 1을 제외한 나머지 신규 특성들이 생성된다."
      ],
      "metadata": {
        "colab": {
          "base_uri": "https://localhost:8080/"
        },
        "id": "d2PvcwtF6wm_",
        "outputId": "09c2e1fc-f837-439d-a471-4c7294b97e92"
      },
      "execution_count": 43,
      "outputs": [
        {
          "output_type": "stream",
          "name": "stdout",
          "text": [
            "[[2. 3. 4. 6. 9.]]\n"
          ]
        }
      ]
    },
    {
      "cell_type": "code",
      "source": [
        "# 신규 특성을 생성하는 fit() / transform()을 실제 데이터에서 활용\n",
        "poly.fit(train_input) # 기존 특성 3개\n",
        "train_poly = poly.transform(train_input)\n",
        "print(\"배열의  shape : \" , train_poly.shape) # 총 데이터 42개, 9개의 특성을 가지고 있음을 알 수 있음\n",
        "\n",
        "print(\"생성된 입력조합 : \", poly.get_feature_names_out()) # 기존 함수에서는 get_feature_name() 이였음\n"
      ],
      "metadata": {
        "colab": {
          "base_uri": "https://localhost:8080/"
        },
        "id": "NgInQbcTFHPE",
        "outputId": "710aa00e-264e-460c-a92c-9225c764f160"
      },
      "execution_count": 44,
      "outputs": [
        {
          "output_type": "stream",
          "name": "stdout",
          "text": [
            "배열의  shape :  (42, 9)\n",
            "생성된 입력조합 :  ['x0' 'x1' 'x2' 'x0^2' 'x0 x1' 'x0 x2' 'x1^2' 'x1 x2' 'x2^2']\n"
          ]
        }
      ]
    },
    {
      "cell_type": "code",
      "source": [
        "# 테스트세트의 변환\n",
        "poly.fit(test_input)\n",
        "test_poly = poly.transform(test_input)\n",
        "print(\"배열의  shape : \" , test_poly.shape)"
      ],
      "metadata": {
        "colab": {
          "base_uri": "https://localhost:8080/"
        },
        "id": "1BNmFYjzFseP",
        "outputId": "96a816b2-434b-4c52-f632-7114c52e9a39"
      },
      "execution_count": 45,
      "outputs": [
        {
          "output_type": "stream",
          "name": "stdout",
          "text": [
            "배열의  shape :  (14, 9)\n"
          ]
        }
      ]
    },
    {
      "cell_type": "code",
      "source": [
        "# 학습 on\n",
        "# 사이킷런 선형 모델안 선형 회귀를 사용한다.\n",
        "from sklearn.linear_model import LinearRegression\n",
        "\n",
        "lr=LinearRegression()\n",
        "lr.fit(train_poly,train_target) #트레이닝 데이터 및 타겟데이터로 학습\n"
      ],
      "metadata": {
        "colab": {
          "base_uri": "https://localhost:8080/"
        },
        "id": "7DFSN0ljHAvF",
        "outputId": "8d6581c7-c224-4f16-a555-f92a1ef29399"
      },
      "execution_count": 46,
      "outputs": [
        {
          "output_type": "execute_result",
          "data": {
            "text/plain": [
              "LinearRegression()"
            ]
          },
          "metadata": {},
          "execution_count": 46
        }
      ]
    },
    {
      "cell_type": "code",
      "source": [
        "# 각 데이터에 대한 결정계수 확인해보기\n",
        "print(\"학습데이터에 대한 점수 결과 : \",lr.score(train_poly,train_target))\n",
        "\n",
        "print(\"테스트데이터에 대한 점수 결과 :\",lr.score(test_poly,test_target))"
      ],
      "metadata": {
        "colab": {
          "base_uri": "https://localhost:8080/"
        },
        "id": "0yMgcCPqI-Le",
        "outputId": "34a440c8-0e8c-4838-ca22-8e40b2ef2344"
      },
      "execution_count": 47,
      "outputs": [
        {
          "output_type": "stream",
          "name": "stdout",
          "text": [
            "학습데이터에 대한 점수 결과 :  0.9903183436982124\n",
            "테스트데이터에 대한 점수 결과 : 0.9714559911594132\n"
          ]
        }
      ]
    },
    {
      "cell_type": "markdown",
      "source": [
        " - 그러면 생각을 해보자\n",
        " - 특성값이 많아질수록 정확도는 더 높아지는거 아닐까?\n",
        " - 기존 2제곱까지만이였던 특성 결과에 3제곱, 4제곱을 넣어보자\n",
        " - 다행스럽게도 PolynomialFeatures()는 고차항의 최대 차수를 지정할 수 있다.\n",
        "  > `PolynomialFeatures(degree = 5 )` 처럼 최대 차수를 정할 수 있다.(degree=5) -> 5차항  "
      ],
      "metadata": {
        "id": "vzIrxjKoJij-"
      }
    },
    {
      "cell_type": "code",
      "source": [
        "poly = PolynomialFeatures(include_bias=False, degree=5)\n",
        "poly.fit(train_input)\n",
        "train_poly = poly.transform(train_input)\n",
        "poly.fit(test_input)\n",
        "test_poly = poly.transform(test_input)\n",
        "\n",
        "print(\"바뀐 폴리노미얼 트레이닝 값 : \",train_poly.shape)\n",
        "print(\"바뀐 폴리노미얼 테스트 값 : \",test_poly.shape)\n",
        "\n",
        "# 특성이 55개나 생성됨 결과도 좋겠지?"
      ],
      "metadata": {
        "colab": {
          "base_uri": "https://localhost:8080/"
        },
        "id": "dNCeuGlUJE2R",
        "outputId": "a6199c5f-fdd6-451f-c5e3-aa98bc43952e"
      },
      "execution_count": 48,
      "outputs": [
        {
          "output_type": "stream",
          "name": "stdout",
          "text": [
            "바뀐 폴리노미얼 트레이닝 값 :  (42, 55)\n",
            "바뀐 폴리노미얼 테스트 값 :  (14, 55)\n"
          ]
        }
      ]
    },
    {
      "cell_type": "code",
      "source": [
        "#바뀐 차수의 데이터 학습\n",
        "lr.fit(train_poly,train_target)\n",
        "\n",
        "\n",
        "#바뀐 차수의 각 데이터에 대한 결정계수 확인해보기\n",
        "print(\"학습데이터에 대한 점수 결과 : \",lr.score(train_poly,train_target))\n",
        "\n",
        "print(\"테스트데이터에 대한 점수 결과 :\",lr.score(test_poly,test_target))"
      ],
      "metadata": {
        "colab": {
          "base_uri": "https://localhost:8080/"
        },
        "id": "SrBUcUqQKpPI",
        "outputId": "efbc8ffb-b6d1-47db-f7a0-d73910ec323a"
      },
      "execution_count": 49,
      "outputs": [
        {
          "output_type": "stream",
          "name": "stdout",
          "text": [
            "학습데이터에 대한 점수 결과 :  0.9999999999991096\n",
            "테스트데이터에 대한 점수 결과 : -144.40579242335605\n"
          ]
        }
      ]
    },
    {
      "cell_type": "markdown",
      "source": [
        "# Insight\n",
        " - 여기서 알 수 있듯이 특성 개수를 높이면 선형 모델은 좋은 성능을 낸다. 따러서 학습 데이터에 대해서는 완벽에 가까운 데이터를 내놓는다.\n",
        " - 하지만 테스트 데이터에서는 과대적합이 되어버려 형편없는 점수를 내놓게 된다.  \n",
        "  > 과대적합 : 데이터셋에 지나치게 최적화 되어 데이터셋에서는 높은 점수를 내지만, 새로운 데이터(테스트 셋, 새로운 샘플)에 <br>대해서는 정확한 동작을 수행하지 못한다.\n",
        " - 따라서 위의 문제를 해결하기 위해선 ***과대적합***의 문제를 해결해야 한다. -> 아래쪽 Solution 참고\n",
        "\n",
        "add. 샘플개수보다 특성의 개수가 많다면? \n",
        " - 과녁은 10개인데 맞출수 있는 총알은 2개다와 같다. \n",
        "\n",
        "# Solution - 규제(regularization)\n",
        " - 규제 : 머신러닝 모델이 훈련 세트를 너무 과도하게 학습하지 못하도록 막는것 -> ***모델이 과대적합되지 않도록 만드는 것***\n",
        " - 선형회귀 모델의 경우 규제는 계수(기울기)의 크기를 작게 만드는 것 이다.\n",
        " - 기본적인 아이디어는 다음과 같다.\n",
        "  > 모델 내 샘플에 대해 하나하나 정확한 값을 학습하는것이 아닌, 규제를 통해 기울기(학습율) 완화를 통해 보편적인 패턴을 <br> 학습하는 것 이다.\n",
        " - 규제를 하기 전 계수의 값의 크기가 서로 많이 다르면 공정하게  제어되지 않을 수 있다. 따라서 정규화를 통해 정확한 결과를 내야 한다.\n",
        " - 선형 회귀 모델에서 규제를 추가한 모델을 릿지(ridge)와 랏쏘(lasso) 라고 한다.(두 모델의 차이는 아래에서 자세히 설명)\n"
      ],
      "metadata": {
        "id": "yXIYDlANLmtm"
      }
    },
    {
      "cell_type": "code",
      "source": [
        "# 앞장에서 했던 정규화 방법이 아닌, \n",
        "# sklearn 내 StandardScaler 모듈을 사용해 정규화 진행 \n",
        "from sklearn.preprocessing import StandardScaler\n",
        "ss = StandardScaler()\n",
        "ss.fit(train_poly)\n",
        "train_scaled = ss.transform(train_poly)\n",
        "test_scaled = ss.transform(test_poly)"
      ],
      "metadata": {
        "id": "Q9QnfWk8LByS"
      },
      "execution_count": 50,
      "outputs": []
    },
    {
      "cell_type": "markdown",
      "source": [
        "# 릿지와 라쏘\n",
        " - 두 모듈 모두 sklearn.linear_model 안에 들어 있다.\n",
        "  > `from sklearn.linear_model import Ridge`<br>\n",
        "  > `from sklearn.linear_model import Lasso`\n",
        " - 많은 특성(앞에 예시의 55개)을 사용해도 규제를 통해 훈련세트에 과대적합되지 않아 테스트 세트에서도 좋은 성능을 내고 있다.\n",
        " - 릿지와 라쏘 모델은 규제의 양을 임의로 조절할 수 있다.이는 alpha 매개변수를 통해 규제의 강도를 정하는데, <br>alpha값이 커지면 규제의 강도가 세지고(기울기가 완만하게 됨) <br>\n",
        " alpha 값이 작아지면 계수를 줄이는 역할이 줄어들어 과대적합이 될 수 있다.\n",
        " - alpha 값은 모델이 학습해야 하는 값이 아닌 사전에 사람들이 지정해야하는 값인 하이퍼 파라미터 이다(hyperparameter) \n",
        " - 따라서 적절한 알파값을 찾는것이 모델의 학습에서 중요한 요소로 작용된다."
      ],
      "metadata": {
        "id": "oreadvzGkRul"
      }
    },
    {
      "cell_type": "code",
      "source": [
        "# 릿지 모델\n",
        "from sklearn.linear_model import Ridge\n",
        "ridge = Ridge()\n",
        "ridge.fit(train_scaled, train_target)\n",
        "print(\"트레이닝 데이터에 대한 모델 측정 : \",ridge.score(train_scaled,train_target))\n",
        "print(\"테스트 데이터에 대한 모델 측정 : \",ridge.score(test_scaled,test_target))\n"
      ],
      "metadata": {
        "colab": {
          "base_uri": "https://localhost:8080/"
        },
        "id": "lDJKC3gikBrv",
        "outputId": "3a716cb5-055f-431a-c26b-5f4575240861"
      },
      "execution_count": 60,
      "outputs": [
        {
          "output_type": "stream",
          "name": "stdout",
          "text": [
            "트레이닝 데이터에 대한 모델 측정 :  0.9896101671037343\n",
            "테스트 데이터에 대한 모델 측정 :  0.9790693977615397\n"
          ]
        }
      ]
    },
    {
      "cell_type": "code",
      "source": [
        "# 적절한 alpha 값 찾기\n",
        "# how to? 적절한 alpha 값에 대한 결정계수 R^2 의 값을 그려보는것이 중요하다.\n",
        "# 그린 결과를 통해 훈련세트와 테스트세트의 점수가 가장 가까운 지점이 최적의 alpha 값임을 나타냄\n",
        "\n",
        "import matplotlib.pyplot as plt\n",
        "train_score = []\n",
        "test_score = []\n",
        "\n",
        "# alpha 값은 0.001 에서 10배단위로 100까지 늘려가며 릿지모델을 학습 및 score를 테스트 후 그래프를 통해 그려냄\n",
        "alpha_list = [0.001, 0.01,0.1,1,10,100]\n",
        "for alpha in alpha_list:\n",
        "  # 릿지 모델 생성\n",
        "  ridge = Ridge(alpha=alpha)\n",
        "  # 릿지모델 훈련\n",
        "  ridge.fit(train_scaled,train_target)\n",
        "  train_score.append(ridge.score(train_scaled,train_target))\n",
        "  test_score.append(ridge.score(test_scaled,test_target))"
      ],
      "metadata": {
        "id": "9rXMnhffk7Hy"
      },
      "execution_count": 61,
      "outputs": []
    },
    {
      "cell_type": "code",
      "source": [
        "# 그래프 그리기\n",
        "plt.plot(np.log10(alpha_list),train_score) # 파란색\n",
        "plt.plot(np.log10(alpha_list),test_score) # 오렌지색\n",
        "plt.xlabel('alpha')\n",
        "plt.ylabel('R^2')\n",
        "plt.show() # 보여지는 결과로는 10^-1 = 0.1 이 최적의 결과,\n",
        "# 따라서 이 값으로 학습 진행"
      ],
      "metadata": {
        "colab": {
          "base_uri": "https://localhost:8080/",
          "height": 279
        },
        "id": "BdJPKfoFsVN2",
        "outputId": "3c88fdaf-0d7b-485f-bb8c-551dd3108bc9"
      },
      "execution_count": 62,
      "outputs": [
        {
          "output_type": "display_data",
          "data": {
            "image/png": "[encoded data removed]",
            "text/plain": [
              "<Figure size 432x288 with 1 Axes>"
            ]
          },
          "metadata": {
            "needs_background": "light"
          }
        }
      ]
    },
    {
      "cell_type": "code",
      "source": [
        "\n",
        "ridge = Ridge(alpha=0.1) #위에서 찾은 최적의 값으로 알파값 설정\n",
        "ridge.fit(train_scaled,train_input)\n",
        "print(ridge.score(train_scaled,train_input))\n",
        "print(ridge.score(test_scaled,test_input))\n",
        "# 두 모델의 score가 비슷해 졌고, train 모델이 더 높은 점수를 받음"
      ],
      "metadata": {
        "colab": {
          "base_uri": "https://localhost:8080/"
        },
        "id": "M6F6ZHs3smsa",
        "outputId": "9eb5d572-5a23-46d5-b9a9-ecbc2a358247"
      },
      "execution_count": 63,
      "outputs": [
        {
          "output_type": "stream",
          "name": "stdout",
          "text": [
            "0.9997708148899255\n",
            "0.9990978036189785\n"
          ]
        }
      ]
    },
    {
      "cell_type": "code",
      "source": [
        "# 라쏘 모델\n",
        "from sklearn.linear_model import Lasso\n",
        "lasso = Lasso()\n",
        "lasso.fit(train_scaled,train_input)\n",
        "\n",
        "print(lasso.score(train_scaled,train_input))\n",
        "print(lasso.score(test_scaled,test_input))"
      ],
      "metadata": {
        "colab": {
          "base_uri": "https://localhost:8080/"
        },
        "id": "_8iBl8hHwf4T",
        "outputId": "ceb0c6e6-cd80-4d7f-c081-b8af5c7c7129"
      },
      "execution_count": 64,
      "outputs": [
        {
          "output_type": "stream",
          "name": "stdout",
          "text": [
            "0.8459578083630298\n",
            "0.8397661939177651\n"
          ]
        }
      ]
    },
    {
      "cell_type": "code",
      "source": [
        ""
      ],
      "metadata": {
        "id": "7Urs7R8exBIc"
      },
      "execution_count": null,
      "outputs": []
    }
  ]
}