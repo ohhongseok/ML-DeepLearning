{
  "nbformat": 4,
  "nbformat_minor": 0,
  "metadata": {
    "colab": {
      "name": "Train and Test set.ipynb",
      "provenance": [],
      "collapsed_sections": [],
      "authorship_tag": "ABX9TyMKqrwO0pzsLIjzy0PAE8qX",
      "include_colab_link": true
    },
    "kernelspec": {
      "name": "python3",
      "display_name": "Python 3"
    },
    "language_info": {
      "name": "python"
    }
  },
  "cells": [
    {
      "cell_type": "markdown",
      "metadata": {
        "id": "view-in-github",
        "colab_type": "text"
      },
      "source": [
        "<a href=\"https://colab.research.google.com/github/ohhongseok/ML-DeepLearning/blob/main/2/2-1/Train_and_Test_set.ipynb\" target=\"_parent\"><img src=\"https://colab.research.google.com/assets/colab-badge.svg\" alt=\"Open In Colab\"/></a>"
      ]
    },
    {
      "cell_type": "markdown",
      "metadata": {
        "id": "hFfaeUV5I3gT"
      },
      "source": [
        "# 지도학습\n",
        "\n",
        "1. 지도학습은 데이터와 정답이 있어야 한다.<br>\n",
        "   - 데이터 : 학습에 사용되는 데이터\n",
        "   - 정답 : 데이터에 대한 참 거짓 여부를 판단(라벨)\n",
        "   - 데이터와 정답 두개를 합쳐 ***훈련데이터*** 라고 함\n",
        "   - 데이터에 활용돠는 것들을 ***특성*** 이라고 함, ex -> 무게, 길이 등..\n",
        "\n",
        "# 훈련세트와 테스트 세트\n",
        "\n",
        "1. 왜 그럼 데이터를 나눠? \n",
        "    - 연습문제랑 실제 시험이 달라야 능력을 평가할 수 있듯이, 머린러닝 알고리즘의 성능을 제대로 평가하려면 ***훈련데이터*** 와 ***평가데이터***를 나누어 계산해야 한다. \n",
        "    - 훈련데이터(train set) : 실제 러닝에 사용되는 데이터\n",
        "    - 테스트 데이터(test set) : 평가에 사용하는 데이터\n"
      ]
    },
    {
      "cell_type": "code",
      "metadata": {
        "colab": {
          "base_uri": "https://localhost:8080/"
        },
        "id": "cP9LNpARIDSG",
        "outputId": "1d378905-3991-4165-f463-8aad97e71794"
      },
      "source": [
        "# 실제 코드 구현부분\n",
        "\n",
        "# 도미 데이터(길이와 무게)\n",
        "bream_length = [25.4, 26.3, 26.5, 29.0, 29.0, 29.7, 29.7, 30.0, 30.0, 30.7, 31.0, 31.0, \n",
        "                31.5, 32.0, 32.0, 32.0, 33.0, 33.0, 33.5, 33.5, 34.0, 34.0, 34.5, 35.0, \n",
        "                35.0, 35.0, 35.0, 36.0, 36.0, 37.0, 38.5, 38.5, 39.5, 41.0, 41.0]\n",
        "bream_weight = [242.0, 290.0, 340.0, 363.0, 430.0, 450.0, 500.0, 390.0, 450.0, 500.0, 475.0, 500.0, \n",
        "                500.0, 340.0, 600.0, 600.0, 700.0, 700.0, 610.0, 650.0, 575.0, 685.0, 620.0, 680.0, \n",
        "                700.0, 725.0, 720.0, 714.0, 850.0, 1000.0, 920.0, 955.0, 925.0, 975.0, 950.0]\n",
        "# 빙어 데이터 준비(길이와 무게)\n",
        "smelt_length = [9.8, 10.5, 10.6, 11.0, 11.2, 11.3, 11.8, 11.8, 12.0, 12.2, 12.4, 13.0, 14.3, 15.0]\n",
        "smelt_weight = [6.7, 7.5, 7.0, 9.7, 9.8, 8.7, 10.0, 9.9, 9.8, 12.2, 13.4, 12.2, 19.7, 19.9]\n",
        "\n",
        "# 두 데이터 함침(도미, 빙어 데이터)\n",
        "total_length = bream_length+smelt_length\n",
        "total_weight = bream_weight+smelt_weight\n",
        "\n",
        "# scikit-learn 패키지 사용하려면 두개의 데이터를 2차원 리스트 만들어야 함\n",
        "# 위의 total_length , total_weight 는 가로형 리스트 데이터\n",
        "\n",
        "fish_data = [[l,w] for l,w in zip(total_length,total_weight)]\n",
        "print(fish_data) #두 어종의 길이와 무게를 합친 2차원 리스트 생성\n",
        "\n",
        "# 데이터 라벨링 위한 작업\n",
        "fish_target = [1]*35+[0]*14\n",
        "print(fish_target)\n",
        "\n",
        "size = len(fish_target)\n",
        "\n",
        "print(\"\\n데이터 사이즈 : \",size)\n"
      ],
      "execution_count": 5,
      "outputs": [
        {
          "output_type": "stream",
          "name": "stdout",
          "text": [
            "[[25.4, 242.0], [26.3, 290.0], [26.5, 340.0], [29.0, 363.0], [29.0, 430.0], [29.7, 450.0], [29.7, 500.0], [30.0, 390.0], [30.0, 450.0], [30.7, 500.0], [31.0, 475.0], [31.0, 500.0], [31.5, 500.0], [32.0, 340.0], [32.0, 600.0], [32.0, 600.0], [33.0, 700.0], [33.0, 700.0], [33.5, 610.0], [33.5, 650.0], [34.0, 575.0], [34.0, 685.0], [34.5, 620.0], [35.0, 680.0], [35.0, 700.0], [35.0, 725.0], [35.0, 720.0], [36.0, 714.0], [36.0, 850.0], [37.0, 1000.0], [38.5, 920.0], [38.5, 955.0], [39.5, 925.0], [41.0, 975.0], [41.0, 950.0], [9.8, 6.7], [10.5, 7.5], [10.6, 7.0], [11.0, 9.7], [11.2, 9.8], [11.3, 8.7], [11.8, 10.0], [11.8, 9.9], [12.0, 9.8], [12.2, 12.2], [12.4, 13.4], [13.0, 12.2], [14.3, 19.7], [15.0, 19.9]]\n",
            "[1, 1, 1, 1, 1, 1, 1, 1, 1, 1, 1, 1, 1, 1, 1, 1, 1, 1, 1, 1, 1, 1, 1, 1, 1, 1, 1, 1, 1, 1, 1, 1, 1, 1, 1, 0, 0, 0, 0, 0, 0, 0, 0, 0, 0, 0, 0, 0, 0]\n",
            "\n",
            "데이터 사이즈 :  49\n"
          ]
        }
      ]
    },
    {
      "cell_type": "code",
      "metadata": {
        "colab": {
          "base_uri": "https://localhost:8080/"
        },
        "id": "0u7Lo6WrPHi-",
        "outputId": "e0d2f803-f877-4d5e-c753-da6f3e66971e"
      },
      "source": [
        "# 이제 이 49개의 데이터에서 처음 35개를 훈련셋, 14개를 테스트셋으로 사용\n",
        "# 파이썬 슬라이싱 활용\n",
        "from sklearn.neighbors import KNeighborsClassifier\n",
        "knn = KNeighborsClassifier()\n",
        "\n",
        "# 0~ 34 까지 총 35개 데이터\n",
        "train_input = fish_data[:35]\n",
        "train_target = fish_target[:35]\n",
        "# 35 ~ 끝까지 총 14개 데이터 슬라이싱\n",
        "test_input = fish_data[35:]\n",
        "test_target = fish_target[35:]\n",
        "\n",
        "# 훈련 데이터를 통해 데이터 테스트 진행 및 테스트 데이터를 활용해 모델의 정확도 평가\n",
        "knn = knn.fit(train_input,train_target) \n",
        "knn.score(test_input,test_target)"
      ],
      "execution_count": 13,
      "outputs": [
        {
          "output_type": "execute_result",
          "data": {
            "text/plain": [
              "0.0"
            ]
          },
          "metadata": {},
          "execution_count": 13
        }
      ]
    },
    {
      "cell_type": "markdown",
      "metadata": {
        "id": "5ZxhuhCgucsc"
      },
      "source": [
        "**위에서 나온 데이터의 문제점**\n",
        "\n",
        " - 데이터(fish_data)를 앞에서부터 순서대로 잘랐다. 이런 데이터 형태는, 빙어와 도미 데이터가 잘 섞이지 않고, 34개의 도미 데이터, 14개의 빙어 데이터로만 나뉘기 때문에 모델의 정확도가 제대로 평가되지 않는다.\n",
        " - 따라서 모델이 한쪽으로 편향되어 있으며, 이러한 상황을 ***샘플링 편향*** 이라고 한다.\n",
        " - 결과적으로 데이터셋을 구성 할 때 두 데이터가 골고루 섞일 수 있도록(편향을 최소화) 해야한다.\n",
        " - 이 책에서는 numpy 배열을 활용하여 진행"
      ]
    },
    {
      "cell_type": "code",
      "metadata": {
        "colab": {
          "base_uri": "https://localhost:8080/"
        },
        "id": "Dbp165fIsSFy",
        "outputId": "a50854f3-ecd6-478c-bb1c-2690fffcc53f"
      },
      "source": [
        "# 데이터를 섞기 전 리스트를 2차원 배열형태로 바꿔야 함\n",
        "import numpy as np\n",
        "\n",
        "# 이를 활용하여 리스트를 넘파이 배열로 만들어야 한다.\n",
        "input_arr = np.array(fish_data)\n",
        "target_arr = np.array(fish_target)\n",
        "\n",
        "print(input_arr)"
      ],
      "execution_count": 15,
      "outputs": [
        {
          "output_type": "stream",
          "name": "stdout",
          "text": [
            "[[  25.4  242. ]\n",
            " [  26.3  290. ]\n",
            " [  26.5  340. ]\n",
            " [  29.   363. ]\n",
            " [  29.   430. ]\n",
            " [  29.7  450. ]\n",
            " [  29.7  500. ]\n",
            " [  30.   390. ]\n",
            " [  30.   450. ]\n",
            " [  30.7  500. ]\n",
            " [  31.   475. ]\n",
            " [  31.   500. ]\n",
            " [  31.5  500. ]\n",
            " [  32.   340. ]\n",
            " [  32.   600. ]\n",
            " [  32.   600. ]\n",
            " [  33.   700. ]\n",
            " [  33.   700. ]\n",
            " [  33.5  610. ]\n",
            " [  33.5  650. ]\n",
            " [  34.   575. ]\n",
            " [  34.   685. ]\n",
            " [  34.5  620. ]\n",
            " [  35.   680. ]\n",
            " [  35.   700. ]\n",
            " [  35.   725. ]\n",
            " [  35.   720. ]\n",
            " [  36.   714. ]\n",
            " [  36.   850. ]\n",
            " [  37.  1000. ]\n",
            " [  38.5  920. ]\n",
            " [  38.5  955. ]\n",
            " [  39.5  925. ]\n",
            " [  41.   975. ]\n",
            " [  41.   950. ]\n",
            " [   9.8    6.7]\n",
            " [  10.5    7.5]\n",
            " [  10.6    7. ]\n",
            " [  11.     9.7]\n",
            " [  11.2    9.8]\n",
            " [  11.3    8.7]\n",
            " [  11.8   10. ]\n",
            " [  11.8    9.9]\n",
            " [  12.     9.8]\n",
            " [  12.2   12.2]\n",
            " [  12.4   13.4]\n",
            " [  13.    12.2]\n",
            " [  14.3   19.7]\n",
            " [  15.    19.9]]\n"
          ]
        }
      ]
    },
    {
      "cell_type": "code",
      "metadata": {
        "colab": {
          "base_uri": "https://localhost:8080/"
        },
        "id": "faZNNkkIwvOu",
        "outputId": "c9d23d32-b11c-48bd-be79-96c63738909d"
      },
      "source": [
        "print(input_arr.shape)\n",
        "# 이 출력을 통해,(총 데이터의 갯수, 총 특성의 갯수(무게, 길이 등..)를 알 수 있다.)"
      ],
      "execution_count": 17,
      "outputs": [
        {
          "output_type": "stream",
          "name": "stdout",
          "text": [
            "(49, 2)\n"
          ]
        }
      ]
    },
    {
      "cell_type": "markdown",
      "metadata": {
        "id": "GoCw27cVzWl2"
      },
      "source": [
        " - 위에서 만든 Numpy 배열을 활용하여 랜덤하게 데이터를 뽑아내 트레이닝 데이터, 훈련데이터로 나누어 활용할 수 있다.\n",
        " - 주의할점은 위에서 만든 input_arr , target_arr의 ***같은 위치***는 같이 선택되어야 한다. 다른 데이터가 선택되면 올바르게 훈련이 안 된다.\n",
        "\n"
      ]
    },
    {
      "cell_type": "code",
      "metadata": {
        "colab": {
          "base_uri": "https://localhost:8080/"
        },
        "id": "4Rr7uihNwult",
        "outputId": "a8020de9-72b7-44aa-93c0-406ea2fecf5d"
      },
      "source": [
        "np.random.seed(42)\n",
        "index = np.arange(49)\n",
        "np.random.shuffle(index)\n",
        "# 랜덤하게 생성된 index 값을 활용하여 train, test set을 만들 것!\n",
        "print(index)"
      ],
      "execution_count": 18,
      "outputs": [
        {
          "output_type": "stream",
          "name": "stdout",
          "text": [
            "[13 45 47 44 17 27 26 25 31 19 12  4 34  8  3  6 40 41 46 15  9 16 24 33\n",
            " 30  0 43 32  5 29 11 36  1 21  2 37 35 23 39 10 22 18 48 20  7 42 14 28\n",
            " 38]\n"
          ]
        }
      ]
    },
    {
      "cell_type": "code",
      "metadata": {
        "id": "quRrJnRc4lh2"
      },
      "source": [
        "# 위에서 생성한 랜덤한 인덱스를 활용하여 train input과 target 을 0~34까지 총 35개 선택!\n",
        "# 따라서 input_arr에는 위에 넘파이 랜덤배열에서 생성한 랜덤한 인덱스값의 데이터들이 선택된다.\n",
        "train_input = input_arr[index[:35]]\n",
        "train_target = target_arr[index[:35]]\n",
        "# 나머지 14개의 데이터를 활용해 test 데이터셋을 만듦\n",
        "test_input = input_arr[index[35:]]\n",
        "test_target = target_arr[index[35:]]"
      ],
      "execution_count": 21,
      "outputs": []
    },
    {
      "cell_type": "code",
      "metadata": {
        "colab": {
          "base_uri": "https://localhost:8080/",
          "height": 279
        },
        "id": "EjhnyBgj5H1x",
        "outputId": "06e42474-21b8-4dc4-f1cb-f048b14f81a5"
      },
      "source": [
        "# 데이터가 제대로 잘 섞였는지 확인해보기(scatter 분포 그래프로)\n",
        "import matplotlib.pyplot as plt\n",
        "# 파란 데이터가 훈련셋, 주황색이 테스트 셋 데이터\n",
        "plt.scatter(train_input[:,0],train_input[:,1])\n",
        "plt.scatter(test_input[:,0],test_input[:,1])\n",
        "plt.xlabel('length')\n",
        "plt.ylabel('width')\n",
        "# 데이터가 제대로 섞인것을 확인\n",
        "plt.show()"
      ],
      "execution_count": 23,
      "outputs": [
        {
          "output_type": "display_data",
          "data": {
            "image/png": "[encoded data removed]",
            "text/plain": [
              "<Figure size 432x288 with 1 Axes>"
            ]
          },
          "metadata": {
            "needs_background": "light"
          }
        }
      ]
    },
    {
      "cell_type": "code",
      "metadata": {
        "colab": {
          "base_uri": "https://localhost:8080/"
        },
        "id": "ffezqTU06RQ-",
        "outputId": "33c5801b-8bf2-4703-8d5f-c627b44d3590"
      },
      "source": [
        "knn=knn.fit(train_input,train_target)\n",
        "# 섞인 모델에 대해서 예측 점수를 봤을때 100%의 정확성 보임\n",
        "knn.score(test_input,test_target)"
      ],
      "execution_count": 28,
      "outputs": [
        {
          "output_type": "execute_result",
          "data": {
            "text/plain": [
              "1.0"
            ]
          },
          "metadata": {},
          "execution_count": 28
        }
      ]
    },
    {
      "cell_type": "code",
      "metadata": {
        "colab": {
          "base_uri": "https://localhost:8080/"
        },
        "id": "bryKZIP_6sqQ",
        "outputId": "5f61612f-2cb2-4cf6-af73-101aa6ceb700"
      },
      "source": [
        "# test input(물고기 특성 데이터)을 통해 확인해 보았을 때 제대로 예측했는지\n",
        "knn.predict(test_input)"
      ],
      "execution_count": 30,
      "outputs": [
        {
          "output_type": "execute_result",
          "data": {
            "text/plain": [
              "array([0, 0, 1, 0, 1, 1, 1, 0, 1, 1, 0, 1, 1, 0])"
            ]
          },
          "metadata": {},
          "execution_count": 30
        }
      ]
    },
    {
      "cell_type": "code",
      "metadata": {
        "colab": {
          "base_uri": "https://localhost:8080/"
        },
        "id": "1usKibIF6wji",
        "outputId": "73fc4343-3aac-48c9-dda6-119864424139"
      },
      "source": [
        "print(\"\\n실제 test_target(0과 1로 이루어진 target data들)과 비교\\n\",test_target)\n",
        "# 위의 predict로 봤을때 제대로 예측한것을 알 수 있다."
      ],
      "execution_count": 32,
      "outputs": [
        {
          "output_type": "stream",
          "name": "stdout",
          "text": [
            "\n",
            "실제 test_target(0과 1로 이루어진 target data들)과 비교\n",
            " [0 0 1 0 1 1 1 0 1 1 0 1 1 0]\n"
          ]
        }
      ]
    },
    {
      "cell_type": "markdown",
      "metadata": {
        "id": "Y0jT9TUe76IA"
      },
      "source": [
        "# 마무리 키워드 정리\n",
        "\n",
        "## 학습 및 데이터의 종류\n",
        "1. 지도학습 : 입력과 타겟 데이터를 활용해 입력 시 타겟데이터와의 일치를 통해 데이터를 예측하는 학습,\n",
        "2. 비지도 학습 : 타겟데이터가 없이 입력데이터 내에서 특징을 찾아서 예측을 함\n",
        "\n",
        "3. 훈련 데이터 : 모델의 훈련(.fit())을 할 때 사용되는 데이터\n",
        "\n",
        "4. 테스트 데이터 : 전체 데이터에서 떼어낸 데이터로, 모델을 평가할 때 사용된다."
      ]
    }
  ]
}