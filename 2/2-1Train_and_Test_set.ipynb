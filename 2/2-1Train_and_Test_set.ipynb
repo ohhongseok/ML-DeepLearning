{
  "nbformat": 4,
  "nbformat_minor": 0,
  "metadata": {
    "colab": {
      "name": "Train and Test set.ipynb",
      "provenance": [],
      "authorship_tag": "ABX9TyN5sWTUUKV0fLsBuw0If/Hd",
      "include_colab_link": true
    },
    "kernelspec": {
      "name": "python3",
      "display_name": "Python 3"
    },
    "language_info": {
      "name": "python"
    }
  },
  "cells": [
    {
      "cell_type": "markdown",
      "metadata": {
        "id": "view-in-github",
        "colab_type": "text"
      },
      "source": [
        "<a href=\"https://colab.research.google.com/github/ohhongseok/ML-DeepLearning/blob/main/2/2-1Train_and_Test_set.ipynb\" target=\"_parent\"><img src=\"https://colab.research.google.com/assets/colab-badge.svg\" alt=\"Open In Colab\"/></a>"
      ]
    },
    {
      "cell_type": "markdown",
      "metadata": {
        "id": "hFfaeUV5I3gT"
      },
      "source": [
        "# 지도학습\n",
        "\n",
        "1. 지도학습은 데이터와 정답이 있어야 한다.<br>\n",
        "   - 데이터 : 학습에 사용되는 데이터\n",
        "   - 정답 : 데이터에 대한 참 거짓 여부를 판단(라벨)\n",
        "   - 데이터와 정답 두개를 합쳐 ***훈련데이터*** 라고 함\n",
        "   - 데이터에 활용돠는 것들을 ***특성*** 이라고 함, ex -> 무게, 길이 등..\n",
        "\n",
        "# 훈련세트와 테스트 세트\n",
        "\n"
      ]
    },
    {
      "cell_type": "code",
      "metadata": {
        "id": "cP9LNpARIDSG"
      },
      "source": [
        ""
      ],
      "execution_count": null,
      "outputs": []
    }
  ]
}