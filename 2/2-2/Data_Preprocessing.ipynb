{
  "nbformat": 4,
  "nbformat_minor": 0,
  "metadata": {
    "colab": {
      "name": "Data_Preprocessing.ipynb",
      "provenance": [],
      "collapsed_sections": [],
      "authorship_tag": "ABX9TyOyk9oLSL5u1bllaj087WP/",
      "include_colab_link": true
    },
    "kernelspec": {
      "name": "python3",
      "display_name": "Python 3"
    },
    "language_info": {
      "name": "python"
    }
  },
  "cells": [
    {
      "cell_type": "markdown",
      "metadata": {
        "id": "view-in-github",
        "colab_type": "text"
      },
      "source": [
        "<a href=\"https://colab.research.google.com/github/ohhongseok/ML-DeepLearning/blob/main/2/2-2/Data_Preprocessing.ipynb\" target=\"_parent\"><img src=\"https://colab.research.google.com/assets/colab-badge.svg\" alt=\"Open In Colab\"/></a>"
      ]
    },
    {
      "cell_type": "markdown",
      "metadata": {
        "id": "NrVSzw-GAR21"
      },
      "source": [
        "# 데이터 전처리\n",
        " - 데이터 전처리 : 올바른 결과를 도출하기 위해 데이터를 사용하기 전 전처리 과정(정규화 등...) 이라고 한다.\n",
        "\n",
        "\n"
      ]
    },
    {
      "cell_type": "code",
      "metadata": {
        "id": "QSEMGgknAQOY"
      },
      "source": [
        "# 1. 넘파이로 데이터 준비하기\n",
        "import numpy as np\n",
        "\n",
        "fish_length = [25.4, 26.3, 26.5, 29.0, 29.0, 29.7, 29.7, 30.0, 30.0, 30.7, 31.0, 31.0, \n",
        "                31.5, 32.0, 32.0, 32.0, 33.0, 33.0, 33.5, 33.5, 34.0, 34.0, 34.5, 35.0, \n",
        "                35.0, 35.0, 35.0, 36.0, 36.0, 37.0, 38.5, 38.5, 39.5, 41.0, 41.0, 9.8, \n",
        "                10.5, 10.6, 11.0, 11.2, 11.3, 11.8, 11.8, 12.0, 12.2, 12.4, 13.0, 14.3, 15.0]\n",
        "fish_weight = [242.0, 290.0, 340.0, 363.0, 430.0, 450.0, 500.0, 390.0, 450.0, 500.0, 475.0, 500.0, \n",
        "                500.0, 340.0, 600.0, 600.0, 700.0, 700.0, 610.0, 650.0, 575.0, 685.0, 620.0, 680.0, \n",
        "                700.0, 725.0, 720.0, 714.0, 850.0, 1000.0, 920.0, 955.0, 925.0, 975.0, 950.0, 6.7, \n",
        "                7.5, 7.0, 9.7, 9.8, 8.7, 10.0, 9.9, 9.8, 12.2, 13.4, 12.2, 19.7, 19.9]"
      ],
      "execution_count": 1,
      "outputs": []
    },
    {
      "cell_type": "code",
      "metadata": {
        "colab": {
          "base_uri": "https://localhost:8080/"
        },
        "id": "NG_YsDP5AaLw",
        "outputId": "e2f1a149-0df3-45bc-bb4d-da605a98f435"
      },
      "source": [
        "# 넘파이를 활용하여 stack 형태로 데이터 만듦\n",
        "fish_data = np.column_stack((fish_length,fish_weight))\n",
        "\n",
        "# 데이터 한번 출력해보기, 이러면 튜플형태로 저장\n",
        "print(fish_data[:10])"
      ],
      "execution_count": 2,
      "outputs": [
        {
          "output_type": "stream",
          "name": "stdout",
          "text": [
            "[[ 25.4 242. ]\n",
            " [ 26.3 290. ]\n",
            " [ 26.5 340. ]\n",
            " [ 29.  363. ]\n",
            " [ 29.  430. ]\n",
            " [ 29.7 450. ]\n",
            " [ 29.7 500. ]\n",
            " [ 30.  390. ]\n",
            " [ 30.  450. ]\n",
            " [ 30.7 500. ]]\n"
          ]
        }
      ]
    },
    {
      "cell_type": "code",
      "metadata": {
        "colab": {
          "base_uri": "https://localhost:8080/"
        },
        "id": "pXkLUShNAbmR",
        "outputId": "1ecde08f-5656-4759-a372-328ba19d2cf9"
      },
      "source": [
        "print(fish_data.shape) # 총 49개의 데이터랑, 2개의 특성으로 나뉨"
      ],
      "execution_count": 3,
      "outputs": [
        {
          "output_type": "stream",
          "name": "stdout",
          "text": [
            "(49, 2)\n"
          ]
        }
      ]
    },
    {
      "cell_type": "code",
      "metadata": {
        "colab": {
          "base_uri": "https://localhost:8080/"
        },
        "id": "zXwPirO4AdE2",
        "outputId": "a7c2b9d9-3047-4b6d-f9ae-24e047adbec8"
      },
      "source": [
        "# 타겟 데이터 생성(타겟데이터 : 일반 시험에서 정답지랑 똑같음)\n",
        "# 앞에서는 타겟데이터를 [1]*35 +[0]*14 의 리스트 형태로 만듦\n",
        "fish_target = np.concatenate((np.ones(35),np.zeros(14)))\n",
        "\n",
        "print(fish_target) # 생성 제대로 됨"
      ],
      "execution_count": 5,
      "outputs": [
        {
          "output_type": "stream",
          "name": "stdout",
          "text": [
            "[1. 1. 1. 1. 1. 1. 1. 1. 1. 1. 1. 1. 1. 1. 1. 1. 1. 1. 1. 1. 1. 1. 1. 1.\n",
            " 1. 1. 1. 1. 1. 1. 1. 1. 1. 1. 1. 0. 0. 0. 0. 0. 0. 0. 0. 0. 0. 0. 0. 0.\n",
            " 0.]\n"
          ]
        }
      ]
    },
    {
      "cell_type": "code",
      "metadata": {
        "colab": {
          "base_uri": "https://localhost:8080/"
        },
        "id": "FyPsbfbhAeHO",
        "outputId": "58e38723-eeef-4793-d527-29f61541d118"
      },
      "source": [
        "from sklearn.model_selection import train_test_split\n",
        "# train_test_split -> 전달되는 리스트나 배열을 비율에 맞게 훈련세트와 테스트 세트로 나누어줌\n",
        "\n",
        "# 앞서서는 np.random.seed()로 그냥 나눴는데  train_test_split() 얘는 그냥 기본 기능으로 랜덤 시드를 정할수가 있네?\n",
        "train_input, test_input, train_target, test_target = train_test_split(fish_data, fish_target, random_state=42)\n",
        "#데이터 확인\n",
        "#1. 잘 섞였음?\n",
        "print(train_input.shape,test_input.shape)\n",
        "#2. 테스트 데이터 잘 섞임?\n",
        "print(test_target)"
      ],
      "execution_count": 6,
      "outputs": [
        {
          "output_type": "stream",
          "name": "stdout",
          "text": [
            "(36, 2) (13, 2)\n",
            "[1. 0. 0. 0. 1. 1. 1. 1. 1. 1. 1. 1. 1.]\n"
          ]
        }
      ]
    },
    {
      "cell_type": "code",
      "metadata": {
        "colab": {
          "base_uri": "https://localhost:8080/"
        },
        "id": "9AWi76wyAg2t",
        "outputId": "6eab45d6-71fd-4c65-a282-61fc191808fd"
      },
      "source": [
        "#테스트 세트에서 봤을땐 데이터가 제대로 안섞임을 확인(편향된 데이터임을 확인)\n",
        "# 이는 train_test_split() 에서 stratify 매개변수에 타겟데이터를 전달하면\n",
        "# 클래스 비율(빙어, 도미의 비율)에 맞게 데이터를 나눈다.\n",
        "train_input, test_input, train_target, test_target = train_test_split(fish_data, fish_target,stratify=fish_target, random_state=42)\n",
        "\n",
        "print(test_target)\n",
        "\n",
        "# 이러면 train, test 세트의 비율이 실제 클래스의 종류 비율(빙어, 도미)과 어느정도 비슷해짐 (36 : 13) = 2.25:1"
      ],
      "execution_count": 7,
      "outputs": [
        {
          "output_type": "stream",
          "name": "stdout",
          "text": [
            "[0. 0. 1. 0. 1. 0. 1. 1. 1. 1. 1. 1. 1.]\n"
          ]
        }
      ]
    },
    {
      "cell_type": "code",
      "metadata": {
        "colab": {
          "base_uri": "https://localhost:8080/"
        },
        "id": "6PbyiFg7Ah_E",
        "outputId": "135362f5-61d0-47db-c1bd-eaf8e4faaa9e"
      },
      "source": [
        "# 이제 학습할수 있게 넘어가보자!\n",
        "from sklearn.neighbors import KNeighborsClassifier\n",
        "\n",
        "knn = KNeighborsClassifier()\n",
        "knn.fit(train_input,train_target)\n",
        "knn.score(test_input,test_target)"
      ],
      "execution_count": 8,
      "outputs": [
        {
          "output_type": "execute_result",
          "data": {
            "text/plain": [
              "1.0"
            ]
          },
          "metadata": {},
          "execution_count": 8
        }
      ]
    },
    {
      "cell_type": "code",
      "metadata": {
        "colab": {
          "base_uri": "https://localhost:8080/"
        },
        "id": "XVHqbknSAjCX",
        "outputId": "9d6cbf12-21da-48f3-f69d-a76bb901c731"
      },
      "source": [
        "# 예상, 도미데이터 25,150을 넣었을때, targert 1(도미) 로 나와야 함\n",
        "print(knn.predict([[25,150]]))"
      ],
      "execution_count": 9,
      "outputs": [
        {
          "output_type": "stream",
          "name": "stdout",
          "text": [
            "[0.]\n"
          ]
        }
      ]
    },
    {
      "cell_type": "code",
      "metadata": {
        "colab": {
          "base_uri": "https://localhost:8080/",
          "height": 279
        },
        "id": "-kqbANFnAkLx",
        "outputId": "8ea7c390-7501-452d-caff-2890a133824f"
      },
      "source": [
        "import matplotlib.pyplot as plt\n",
        "plt.scatter(train_input[:,0],train_input[:,1])\n",
        "plt.scatter(25,150,marker='*')\n",
        "plt.xlabel('length')\n",
        "plt.ylabel('weight')\n",
        "plt.show()\n",
        "# 산점도 그래프를 확인해서 보았을땐, 내가 추가한 데이터(25,150)가 도미쪽에 가까워 보임"
      ],
      "execution_count": 10,
      "outputs": [
        {
          "output_type": "display_data",
          "data": {
            "image/png": "[encoded data removed]",
            "text/plain": [
              "<Figure size 432x288 with 1 Axes>"
            ]
          },
          "metadata": {
            "needs_background": "light"
          }
        }
      ]
    },
    {
      "cell_type": "code",
      "metadata": {
        "id": "Ac4_0_6CAlf7"
      },
      "source": [
        "# 그러면 메쏘드를 활용해서 정확하게 확인해보자\n",
        "# KNeighborsClassifier() 클래스는 주어진 샘플에서 가장 가까운 이웃을 찾아주는\n",
        "# kneighbors() 메서드를 제공해 준다. \n",
        "# (distance, index 값 반환, n_neighbors의 기본 default 값이 5 이므로 이 메쏘드도 5개의 값 반환)"
      ],
      "execution_count": 11,
      "outputs": []
    },
    {
      "cell_type": "code",
      "metadata": {
        "colab": {
          "base_uri": "https://localhost:8080/",
          "height": 297
        },
        "id": "Cj_J2VzrAm_v",
        "outputId": "95832001-c5b8-42bf-8220-2b9acf21a1c6"
      },
      "source": [
        "distances, indexes = knn.kneighbors([[25,150]])\n",
        "\n",
        "\n",
        "plt.scatter(train_input[:,0],train_input[:,1]) \n",
        "plt.scatter(25,150,marker='*')\n",
        "plt.scatter(train_input[indexes,0],train_input[indexes,1],marker='D')\n",
        "plt.xlabel('length')\n",
        "plt.ylabel('weight')\n",
        "# 해당 산점도 그래프를 사용해서 확인해 보니, 값이 빙어에 더 가깞게 나타남을 알 수 있음"
      ],
      "execution_count": 12,
      "outputs": [
        {
          "output_type": "execute_result",
          "data": {
            "text/plain": [
              "Text(0, 0.5, 'weight')"
            ]
          },
          "metadata": {},
          "execution_count": 12
        },
        {
          "output_type": "display_data",
          "data": {
            "image/png": "[encoded data removed]",
            "text/plain": [
              "<Figure size 432x288 with 1 Axes>"
            ]
          },
          "metadata": {
            "needs_background": "light"
          }
        }
      ]
    },
    {
      "cell_type": "code",
      "metadata": {
        "colab": {
          "base_uri": "https://localhost:8080/"
        },
        "id": "6m79eWZ_AoHI",
        "outputId": "1449bfcf-ecea-4dd0-c9b3-5762113027d0"
      },
      "source": [
        "# 직접 주변의 데이터를 확인하여 결과를 찾아봄\n",
        "# 결과 빙어에 더 가깝게(0) 데이터가 출력이 되었다는 것을\n",
        "# 알 수 있음\n",
        "print(train_input[indexes],\"\\n\")\n",
        "\n",
        "print(train_target[indexes])\n"
      ],
      "execution_count": 13,
      "outputs": [
        {
          "output_type": "stream",
          "name": "stdout",
          "text": [
            "[[[ 25.4 242. ]\n",
            "  [ 15.   19.9]\n",
            "  [ 14.3  19.7]\n",
            "  [ 13.   12.2]\n",
            "  [ 12.2  12.2]]] \n",
            "\n",
            "[[1. 0. 0. 0. 0.]]\n"
          ]
        }
      ]
    },
    {
      "cell_type": "code",
      "metadata": {
        "colab": {
          "base_uri": "https://localhost:8080/"
        },
        "id": "GNFiSyHQApqr",
        "outputId": "399682db-bf21-4e8a-9b83-2fa95e4095eb"
      },
      "source": [
        "# kneighbors() 매서드 내의 반환값 중 하나인 distances를 확인해서 한번 보면\n",
        "print(distances)\n",
        "# 나머지 4개의 데이터가( 빙어 : 0) 더 먼것을 알 수 있음 \n",
        "# 이를통해 x와 y의 범위가 제대로 표현되지 않아 \n",
        "# 원하는 예상 결과가 아닌 다른 결과가 나옴을 알 수 있음 -> 원하는 값이 나올 수 있도록 정규화를 통해 값을 정리해야 한다."
      ],
      "execution_count": 14,
      "outputs": [
        {
          "output_type": "stream",
          "name": "stdout",
          "text": [
            "[[ 92.00086956 130.48375378 130.73859415 138.32150953 138.39320793]]\n"
          ]
        }
      ]
    },
    {
      "cell_type": "markdown",
      "metadata": {
        "id": "dyXhmPcSBTvs"
      },
      "source": [
        "# Note.\n",
        " - 위의 데이터의 길이를 살펴보면, 가장 가까운 것의 길이는 92, 나머지 가까운것의 길이는 130, 138 이 된다.\n",
        " - 이는 x축의 범위가 좁고(0->40) y축의 범위가 넓어(0 ->1000) y축의 거리가  ***조금이라도 멀으면 거리가 멀게*** 표현이 되기 때문이다.\n",
        " - 이때문에 도미 바로 위의 데이터가 빙어의 4개의 데이터보다 거리가 더 멀게 측정되어 선택이 되지 않은 것 이다.\n",
        " - 따라서 거리의 대한 값을 조정해야 한다.(전처리 과정)"
      ]
    },
    {
      "cell_type": "code",
      "metadata": {
        "colab": {
          "base_uri": "https://localhost:8080/",
          "height": 279
        },
        "id": "g8GCKBzKArE2",
        "outputId": "14fbb06f-a15e-4a3d-96cf-3d8e977dae42"
      },
      "source": [
        "# 위의 Note를 확인해 보기 위해 x 축의 범위를 y축과 똑같이 바꿔보자\n",
        "# x축의 범위를 바꿔주기 위해(기준점) xlim() 함수를 사용하여 x축의 범위를 바꿔보자(+y축은 ylim()으로 나타냄)\n",
        "plt.scatter(train_input[:,0],train_input[:,1])\n",
        "plt.scatter(25,150,marker='^')\n",
        "plt.scatter(train_input[indexes,0],train_input[indexes,1],marker='^')\n",
        "plt.xlim((0,1000))\n",
        "plt.xlabel('length')\n",
        "plt.ylabel('weight')\n",
        "plt.show()\n",
        "# 이렇게 되면 x의 값은 거의 신경쓰지 않고 나머지 특성(무게) 만을 가지고 확인하면 된다. "
      ],
      "execution_count": 16,
      "outputs": [
        {
          "output_type": "display_data",
          "data": {
            "image/png": "[encoded data removed]",
            "text/plain": [
              "<Figure size 432x288 with 1 Axes>"
            ]
          },
          "metadata": {
            "needs_background": "light"
          }
        }
      ]
    },
    {
      "cell_type": "markdown",
      "metadata": {
        "id": "eTD5Twz0Flse"
      },
      "source": [
        "# 데이터 전처리\n",
        "\n",
        " - 특성값을 일정한 기준으로 맞추어 준 후에 사용해야 한다.\n",
        " - 가장 많이 사용하는 방법으로는 표준점수 방법을 사용한다.\n",
        "   > 표준점수 : 각 특성이 평균에서 표준편차의 몇배만큼 떨어저 있는지를 나타낸다.<br>\n",
        "   > 표준점수를 활용하여 실제 특성값의 크기와 상관없이 동일한 조건으로 비교할 수 있다. <br>\n",
        "   > \n",
        " - 모든 머신러닝 알고리즘이 거리기반으로 나누는 것이 아니다. 알고리즘의 특징별로 다양한 방식을 사용한다."
      ]
    },
    {
      "cell_type": "code",
      "metadata": {
        "id": "qPOIs6G4FlM-"
      },
      "source": [
        "# k 근접 알고리즘에서 전처리를 사용하기 위해, 평균과 표준편차를 구함\n",
        "\n",
        "mean = np.mean(train_input,axis=0)\n",
        "std = np.std(train_input,axis=0)"
      ],
      "execution_count": 18,
      "outputs": []
    },
    {
      "cell_type": "markdown",
      "metadata": {
        "id": "qr9IlNIqI2c_"
      },
      "source": [
        "# axis 간단하게 이해하기\n",
        "\n",
        "예시로 배열\n",
        "     ![image.png](data:image/png;base64,iVBORw0KGgoAAAANSUhEUgAAAPoAAABoCAYAAADYQu11AAAAAXNSR0IArs4c6QAAAARnQU1BAACxjwv8YQUAAAAJcEhZcwAADsMAAA7DAcdvqGQAAAP6SURBVHhe7dyBrps4EAXQ9/b//3mX6daSZZHgEDvBzDnSqC0kE0y5YFCU3383P8Ct/fP3T+DGBB0SEHRIQNAhgaUfxv3+/v7sbX4sL9r1z9at7K7jYoxlg/4o5OHMujooYcRu+UbPZ2MnL1P3TQlHXW2gXrVKT3JYMujlgF/NitvMPXQHPcJVqlWW7a0/WvdoeWtvGdCnK+gRsqPpYv2a1t66np6rizHVBd/SFfQ6oI88e83euqPX18GIv/dsw1nl8+oa8XnRo67oC98wZOp+1oyeZ8TnrxDKsl11QY9TU/cRenuW1/G/ep/ZL/TqvqJ/WhzErlgwxstBnxG+Zz33rlrfOAl8etx73t2GT+8zrqP7YVwcJFEleO8eNDN6nlVvS7tNZ63Skxwu+RXYOIDD0aY9OtDL+0O7/tm6R2YEanTPo3HNGAPr8AszkMBlH8YB4wg6JCDokEC6e/QzD+NWcNdxMUbKoO8NuQ5KGLVbRj7tbrexqPuP/Dzuw9R9U8JR16NQvWJEj1a7nVFwRNAnEkKuQtAhAUFfTNwO1AU9BH0x7f25sNND0Bfinp+zBB0SEPSFmKZzlqB3mhGyTwfXiSIvQd+Uh1p1XfF+eJXt5Hp8173DjECN7nk0LieF3PzwBCRg6g4JCDokIOiQgIdxN3HXcTGGH57Y1CGpvbNrZvQMbd+9sST7L6WDoD8wIzDv9tx7f7tsxnazPvfoO64YcniHoEMCgt5wNeeOBH0hcbKIk0ZdTiD0EPSFlGDXFcvgiKBXZlwhXXW5AkGHBAS904wp8qen3ab5eQn6Qso9eV1uC+jhu+4dZgRqdM+jcTkp5OaHJyABU3dIQNAhAUGHBDyMu4m7josxUl7RIwhtGCIodY02suder70xQWHqvonglKCUmh3Ms0b2Ig9BX4yrNmcI+mRltgDfJOiQgKBvyj15XSOuwq7mXIWgb0og64plcBeCPomrOVci6BNF2EuVf8M3CHqnV0Pa3gqUZbVPB9+JJi9B30QAIwR1taGElfmue4cZwR/d82hcTl65+eEJSMDUHRIQdEhA0CEBD+Nu4tm4PKgjZdAfHey1EbvlGz2fhfbsOtZn6r4pB3ldbaBetUpPchB0/nDSuDdB38RBPtoqPclB0HeUKfII0avU6KDO6Mk9CXpjdHiiV6noPYqQ8wpBr6wSHiHnVYL+l5BzZ4K+mRGe6DmakHOWoHeaFdyrcBK5N0H/Kw70tt4RoWn7jQhS2zMKjviue4d4z+jdNLrns3EdjXnG+LgWPzwBCZi6QwKCDgkIOiQg6JCAoEMCgg4JCDokIOiQgKBDAoIOCQg6JCDokICgQwKCDgkIOiQg6JCAoMPt/fz8B3wNA/JiFHc2AAAAAElFTkSuQmCC)\n",
        "     이 있디고 가정하자\n",
        "     현재 배열은 (5,3) 이며, <br>\n",
        "     `axis = 0` 의 경우 5행의 모든 원소를 더한\n",
        "     array([25,21,25]) 라고 보면 된다.<br>\n",
        "     `axis = 1` 의 경우 3행의 모든 원소를 더한 총 3개의 원소가 생성된다.\n",
        "     array([23,6,22,13,7]) 으로 총 5개의 원소가 생성된다."
      ]
    },
    {
      "cell_type": "code",
      "metadata": {
        "colab": {
          "base_uri": "https://localhost:8080/"
        },
        "id": "BTgexQMMDEOH",
        "outputId": "0992fc9a-73cc-4c9e-8153-70b836a7eff7"
      },
      "source": [
        "# 계산된 mean, std 값 출력\n",
        "print(mean,std)"
      ],
      "execution_count": 19,
      "outputs": [
        {
          "output_type": "stream",
          "name": "stdout",
          "text": [
            "[ 27.29722222 454.09722222] [  9.98244253 323.29893931]\n"
          ]
        }
      ]
    },
    {
      "cell_type": "code",
      "metadata": {
        "colab": {
          "base_uri": "https://localhost:8080/"
        },
        "id": "par-VrgcKCRj",
        "outputId": "8ac2a173-bfb3-4ca8-d1b1-8b2a93a767fa"
      },
      "source": [
        "# 표준점수 구하기 (각 특성에서 평균을 빼고, 표준편차로 나누어 표준점수로 변환)\n",
        "# 표준점수는 평균에서 특성이 표준편차의 x배 만큼 얼만큼 떨어져 있는지 구하기 때문에 역순으로 구한다. \n",
        "train_scaled = (train_input - mean) / std \n",
        "print(train_scaled) # 표준점수로 변환한 전처리 데이터 모델"
      ],
      "execution_count": 23,
      "outputs": [
        {
          "output_type": "stream",
          "name": "stdout",
          "text": [
            "[[ 0.24070039  0.14198246]\n",
            " [-1.51237757 -1.36683783]\n",
            " [ 0.5712808   0.76060496]\n",
            " [-1.60253587 -1.37766373]\n",
            " [ 1.22242404  1.45655528]\n",
            " [ 0.17057727 -0.07453542]\n",
            " [ 0.87180845  0.80390854]\n",
            " [ 0.87180845  1.22457184]\n",
            " [ 0.37092904  0.06465464]\n",
            " [ 0.77163257  0.82246721]\n",
            " [ 0.97198434  1.68853872]\n",
            " [-1.61255346 -1.3742613 ]\n",
            " [ 0.72154463  0.51315596]\n",
            " [-1.53241275 -1.3742613 ]\n",
            " [ 0.17057727 -0.28177396]\n",
            " [ 0.5712808   0.76060496]\n",
            " [ 0.34087627  0.14198246]\n",
            " [ 1.12224816  1.54934866]\n",
            " [ 0.62136874  0.60594934]\n",
            " [-1.30200822 -1.34363949]\n",
            " [ 0.42101698  0.14198246]\n",
            " [-0.19005591 -0.65604058]\n",
            " [-1.75279969 -1.38384995]\n",
            " [ 0.47110492  0.45129371]\n",
            " [-1.68267658 -1.38137546]\n",
            " [ 0.62136874  0.48222484]\n",
            " [-1.67265899 -1.38292202]\n",
            " [ 0.77163257  0.76060496]\n",
            " [ 0.47110492  0.45129371]\n",
            " [ 0.77163257  0.83793278]\n",
            " [-1.43223687 -1.36683783]\n",
            " [ 0.27075315 -0.01267317]\n",
            " [ 0.47110492 -0.35291555]\n",
            " [-1.2318851  -1.34302087]\n",
            " [ 0.27075315 -0.19825992]\n",
            " [ 1.37268787  1.61121091]]\n"
          ]
        }
      ]
    },
    {
      "cell_type": "code",
      "metadata": {
        "colab": {
          "base_uri": "https://localhost:8080/",
          "height": 279
        },
        "id": "vLUGtZWWKTNa",
        "outputId": "65aa7a6a-800a-4690-9b7e-a2c597f48e0d"
      },
      "source": [
        "plt.scatter(train_scaled[:,0],train_scaled[:,1])\n",
        "plt.scatter(25,150,marker='^')\n",
        "plt.xlabel('length')\n",
        "plt.ylabel('weight')\n",
        "plt.show()\n",
        "# 데이터만 정규화 해주었지 샘플의 데이터는 정규화 해주지 않아 이런 결과가 생김"
      ],
      "execution_count": 25,
      "outputs": [
        {
          "output_type": "display_data",
          "data": {
            "image/png": "[encoded data removed]",
            "text/plain": [
              "<Figure size 432x288 with 1 Axes>"
            ]
          },
          "metadata": {
            "needs_background": "light"
          }
        }
      ]
    },
    {
      "cell_type": "code",
      "metadata": {
        "colab": {
          "base_uri": "https://localhost:8080/",
          "height": 279
        },
        "id": "7BKDkx0_ODWJ",
        "outputId": "50a3a238-b257-4baa-d6c7-4f3d8e968fb7"
      },
      "source": [
        "new_data = ([25,150]-mean)/std\n",
        "plt.scatter(train_scaled[:,0],train_scaled[:,1])\n",
        "plt.scatter(new_data[0],new_data[1],marker='^')\n",
        "plt.xlabel('length')\n",
        "plt.ylabel('weight')\n",
        "plt.show()"
      ],
      "execution_count": 26,
      "outputs": [
        {
          "output_type": "display_data",
          "data": {
            "image/png": "[encoded data removed]",
            "text/plain": [
              "<Figure size 432x288 with 1 Axes>"
            ]
          },
          "metadata": {
            "needs_background": "light"
          }
        }
      ]
    },
    {
      "cell_type": "code",
      "metadata": {
        "id": "UhaU7VbEObkt"
      },
      "source": [
        "knn.fit(train_scaled,train_target) # 바뀐 범위의 데이터를 학습 시킨 후\n",
        "\n",
        "# 위의 샘플데이터와 마찬가지로,테스트 데이터의 경우에도 범위를 맞추어 줘야 한다.\n",
        "\n",
        "test_scaled = (test_input - mean) / std"
      ],
      "execution_count": 33,
      "outputs": []
    },
    {
      "cell_type": "code",
      "metadata": {
        "colab": {
          "base_uri": "https://localhost:8080/"
        },
        "id": "vN-kJ3VXOuK0",
        "outputId": "cd18f6c0-42bc-4bf4-9296-3b344724f0b1"
      },
      "source": [
        "# 바뀐 범위의 테스트 데이터를 활용해 score를 구한다\n",
        "knn.score(test_scaled, test_target)"
      ],
      "execution_count": 34,
      "outputs": [
        {
          "output_type": "execute_result",
          "data": {
            "text/plain": [
              "1.0"
            ]
          },
          "metadata": {},
          "execution_count": 34
        }
      ]
    },
    {
      "cell_type": "code",
      "metadata": {
        "colab": {
          "base_uri": "https://localhost:8080/"
        },
        "id": "mBCh4OnaOxNg",
        "outputId": "d7529b93-b752-44bb-dff5-a899411480b1"
      },
      "source": [
        "# 그리고 아까 위에서 전처리한 싱글데이터(25,150)를 다시 predict로 넣어서 돌리면 1(도미) 로 제대로 구한것을 알 수 있다.\n",
        "print(knn.predict([new_data]))"
      ],
      "execution_count": 35,
      "outputs": [
        {
          "output_type": "stream",
          "name": "stdout",
          "text": [
            "[1.]\n"
          ]
        }
      ]
    },
    {
      "cell_type": "code",
      "metadata": {
        "colab": {
          "base_uri": "https://localhost:8080/",
          "height": 279
        },
        "id": "SEKo1-T9O0_3",
        "outputId": "8fb3020e-def2-4e12-be59-c68d1ea76135"
      },
      "source": [
        "# 바뀐 데이터로 최근접 산점도 다시 구하기\n",
        "distances, indexes = knn.kneighbors([new_data])\n",
        "\n",
        "\n",
        "plt.scatter(train_scaled[:,0],train_scaled[:,1]) \n",
        "plt.scatter(new_data[0],new_data[1], marker='*')\n",
        "plt.scatter(train_scaled[indexes,0],train_scaled[indexes,1],marker='D')\n",
        "plt.xlabel('length')\n",
        "plt.ylabel('weight')\n",
        "# 해당 산점도 그래프를 사용해서 확인해 보니, 값이 도미에 가깝게 출력되었음을 알 수 있음(거리를 제대로 측정하였다.)\n",
        "plt.show()"
      ],
      "execution_count": 40,
      "outputs": [
        {
          "output_type": "display_data",
          "data": {
            "image/png": "[encoded data removed]",
            "text/plain": [
              "<Figure size 432x288 with 1 Axes>"
            ]
          },
          "metadata": {
            "needs_background": "light"
          }
        }
      ]
    },
    {
      "cell_type": "markdown",
      "metadata": {
        "id": "0Ht0Tuf2QGEJ"
      },
      "source": [
        "# 데이터 전처리\n",
        "\n",
        " - 데이터 전처리 : 모델 훈련 데이터를 주입하기 전에 가공하는 단계\n",
        " - 표준점수 : 훈련세트의 스키일을 바꾸는 방법으로, 특성을 평균으로 뺀 후, 표쥰편차로 나누어야야 한다.\n",
        "\n"
      ]
    }
  ]
}