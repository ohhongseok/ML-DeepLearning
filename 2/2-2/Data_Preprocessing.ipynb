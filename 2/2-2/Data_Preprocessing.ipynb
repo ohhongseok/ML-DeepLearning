{
  "nbformat": 4,
  "nbformat_minor": 0,
  "metadata": {
    "colab": {
      "name": "Data Preprocessing.ipynb",
      "provenance": [],
      "authorship_tag": "ABX9TyPgDuBc2Nh1rYxpOjVG1X36"
    },
    "kernelspec": {
      "name": "python3",
      "display_name": "Python 3"
    },
    "language_info": {
      "name": "python"
    }
  },
  "cells": [
    {
      "cell_type": "markdown",
      "metadata": {
        "id": "F_LmnXXXNrkJ"
      },
      "source": [
        "# 데이터 전처리\n",
        " - 데이터 전처리 : 올바른 결과를  도출하기 위해 데이터를 사용하기 전 전처리 과정(정규화 등...) 이라고 한다."
      ]
    },
    {
      "cell_type": "code",
      "metadata": {
        "id": "xesyXcUC9j0A"
      },
      "source": [
        "# 1. 넘파이로 데이터 준비하기\n",
        "import numpy as np\n",
        "\n",
        "fish_length = [25.4, 26.3, 26.5, 29.0, 29.0, 29.7, 29.7, 30.0, 30.0, 30.7, 31.0, 31.0, \n",
        "                31.5, 32.0, 32.0, 32.0, 33.0, 33.0, 33.5, 33.5, 34.0, 34.0, 34.5, 35.0, \n",
        "                35.0, 35.0, 35.0, 36.0, 36.0, 37.0, 38.5, 38.5, 39.5, 41.0, 41.0, 9.8, \n",
        "                10.5, 10.6, 11.0, 11.2, 11.3, 11.8, 11.8, 12.0, 12.2, 12.4, 13.0, 14.3, 15.0]\n",
        "fish_weight = [242.0, 290.0, 340.0, 363.0, 430.0, 450.0, 500.0, 390.0, 450.0, 500.0, 475.0, 500.0, \n",
        "                500.0, 340.0, 600.0, 600.0, 700.0, 700.0, 610.0, 650.0, 575.0, 685.0, 620.0, 680.0, \n",
        "                700.0, 725.0, 720.0, 714.0, 850.0, 1000.0, 920.0, 955.0, 925.0, 975.0, 950.0, 6.7, \n",
        "                7.5, 7.0, 9.7, 9.8, 8.7, 10.0, 9.9, 9.8, 12.2, 13.4, 12.2, 19.7, 19.9]\n",
        "                "
      ],
      "execution_count": 1,
      "outputs": []
    },
    {
      "cell_type": "code",
      "metadata": {
        "colab": {
          "base_uri": "https://localhost:8080/"
        },
        "id": "-OFbG4xpgq3N",
        "outputId": "295e40f6-aec9-437b-f222-1f7dd9e1fb74"
      },
      "source": [
        "# 넘파이를 활용하여 stack 형태로 데이터 만듦\n",
        "fish_data = np.column_stack((fish_length,fish_weight))\n",
        "\n",
        "# 데이터 한번 출력해보기, 이러면 튜플형태로 저장\n",
        "print(fish_data[:10])"
      ],
      "execution_count": 2,
      "outputs": [
        {
          "output_type": "stream",
          "name": "stdout",
          "text": [
            "[[ 25.4 242. ]\n",
            " [ 26.3 290. ]\n",
            " [ 26.5 340. ]\n",
            " [ 29.  363. ]\n",
            " [ 29.  430. ]\n",
            " [ 29.7 450. ]\n",
            " [ 29.7 500. ]\n",
            " [ 30.  390. ]\n",
            " [ 30.  450. ]\n",
            " [ 30.7 500. ]]\n"
          ]
        }
      ]
    },
    {
      "cell_type": "code",
      "metadata": {
        "colab": {
          "base_uri": "https://localhost:8080/"
        },
        "id": "ck7IrA6zorjA",
        "outputId": "f9950c0f-3cfd-41cb-c944-2022250b3d8f"
      },
      "source": [
        "print(fish_data.shape) # 총 49개의 데이터랑, 2개의 특성으로 나뉨"
      ],
      "execution_count": 3,
      "outputs": [
        {
          "output_type": "stream",
          "name": "stdout",
          "text": [
            "(49, 2)\n"
          ]
        }
      ]
    },
    {
      "cell_type": "code",
      "metadata": {
        "colab": {
          "base_uri": "https://localhost:8080/"
        },
        "id": "rfHKZHjYhg7W",
        "outputId": "78059144-3382-4eb7-e168-3db0e405d181"
      },
      "source": [
        "# 타겟 데이터 생성(타겟데이터 : 일반 시험에서 정답지랑 똑같음)\n",
        "# 앞에서는 타겟데이터를 [1]*35 +[0]*14 의 리스트 형태로 만듦\n",
        "fish_target = np.concatenate((np.ones(35),np.zeros(14)))\n",
        "\n",
        "print(fish_target) # 생성 제대로 됨"
      ],
      "execution_count": 4,
      "outputs": [
        {
          "output_type": "stream",
          "name": "stdout",
          "text": [
            "[1. 1. 1. 1. 1. 1. 1. 1. 1. 1. 1. 1. 1. 1. 1. 1. 1. 1. 1. 1. 1. 1. 1. 1.\n",
            " 1. 1. 1. 1. 1. 1. 1. 1. 1. 1. 1. 0. 0. 0. 0. 0. 0. 0. 0. 0. 0. 0. 0. 0.\n",
            " 0.]\n"
          ]
        }
      ]
    },
    {
      "cell_type": "code",
      "metadata": {
        "colab": {
          "base_uri": "https://localhost:8080/"
        },
        "id": "zVjBKYWDkm_X",
        "outputId": "b629ff17-11de-40ed-faed-01cea722be6f"
      },
      "source": [
        "from sklearn.model_selection import train_test_split\n",
        "# train_test_split -> 전달되는 리스트나 배열을 비율에 맞게 훈련세트와 테스트 세트로 나누어줌\n",
        "\n",
        "# 앞서서는 np.random.seed()로 그냥 나눴는데  train_test_split() 얘는 그냥 기본 기능으로 랜덤 시드를 정할수가 있네?\n",
        "train_input, test_input, train_target, test_target = train_test_split(fish_data, fish_target, random_state=42)\n",
        "#데이터 확인\n",
        "#1. 잘 섞였음?\n",
        "print(train_input.shape,test_input.shape)\n",
        "#2. 테스트 데이터 잘 섞임?\n",
        "print(test_target)"
      ],
      "execution_count": 5,
      "outputs": [
        {
          "output_type": "stream",
          "name": "stdout",
          "text": [
            "(36, 2) (13, 2)\n",
            "[1. 0. 0. 0. 1. 1. 1. 1. 1. 1. 1. 1. 1.]\n"
          ]
        }
      ]
    },
    {
      "cell_type": "code",
      "metadata": {
        "colab": {
          "base_uri": "https://localhost:8080/"
        },
        "id": "dGpVQzcKogtb",
        "outputId": "47dba758-88c3-4029-a8b1-de333dd5ca71"
      },
      "source": [
        "#테스트 세트에서 봤을땐 데이터가 제대로 안섞임을 확인(편향된 데이터임을 확인)\n",
        "# 이는 train_test_split() 에서 stratify 매개변수에 타겟데이터를 전달하면\n",
        "# 클래스 비율(빙어, 도미의 비율)에 맞게 데이터를 나눈다.\n",
        "train_input, test_input, train_target, test_target = train_test_split(fish_data, fish_target,stratify=fish_target, random_state=42)\n",
        "\n",
        "print(test_target)\n",
        "\n",
        "# 이러면 train, test 세트의 비율이 실제 클래스의 종류 비율(빙어, 도미)과 어느정도 비슷해짐 (36 : 13) = 2.25:1"
      ],
      "execution_count": 7,
      "outputs": [
        {
          "output_type": "stream",
          "name": "stdout",
          "text": [
            "[0. 0. 1. 0. 1. 0. 1. 1. 1. 1. 1. 1. 1.]\n"
          ]
        }
      ]
    },
    {
      "cell_type": "code",
      "metadata": {
        "colab": {
          "base_uri": "https://localhost:8080/"
        },
        "id": "5gNgs_Ob0MKr",
        "outputId": "75a44da6-cf27-4226-a1a3-4fb899a9057a"
      },
      "source": [
        "# 이제 학습할수 있게 넘어가보자!\n",
        "from sklearn.neighbors import KNeighborsClassifier\n",
        "\n",
        "knn = KNeighborsClassifier()\n",
        "knn.fit(train_input,train_target)\n",
        "knn.score(test_input,test_target)\n"
      ],
      "execution_count": 9,
      "outputs": [
        {
          "output_type": "execute_result",
          "data": {
            "text/plain": [
              "1.0"
            ]
          },
          "metadata": {},
          "execution_count": 9
        }
      ]
    },
    {
      "cell_type": "code",
      "metadata": {
        "colab": {
          "base_uri": "https://localhost:8080/"
        },
        "id": "EznN37Fx7vaH",
        "outputId": "e6bea12b-029b-4350-d79b-398f46242b3a"
      },
      "source": [
        "# 예상, 도미데이터 25,150을 넣었을때, targert 1(도미) 로 나와야 함\n",
        "print(knn.predict([[25,150]]))"
      ],
      "execution_count": 11,
      "outputs": [
        {
          "output_type": "stream",
          "name": "stdout",
          "text": [
            "[0.]\n"
          ]
        }
      ]
    },
    {
      "cell_type": "code",
      "metadata": {
        "colab": {
          "base_uri": "https://localhost:8080/",
          "height": 279
        },
        "id": "Y7kN7Ems8GAj",
        "outputId": "43b40a88-75d2-414f-8b12-dbc8a1e9f5ec"
      },
      "source": [
        "import matplotlib.pyplot as plt\n",
        "plt.scatter(train_input[:,0],train_input[:,1])\n",
        "plt.scatter(25,150,marker='*')\n",
        "plt.xlabel('length')\n",
        "plt.ylabel('weight')\n",
        "plt.show()\n",
        "# 산점도 그래프를 확인해서 보았을땐, 내가 추가한 데이터(25,150)가 도미쪽에 가까워 보임"
      ],
      "execution_count": 13,
      "outputs": [
        {
          "output_type": "display_data",
          "data": {
            "image/png": "[encoded data removed]",
            "text/plain": [
              "<Figure size 432x288 with 1 Axes>"
            ]
          },
          "metadata": {
            "needs_background": "light"
          }
        }
      ]
    },
    {
      "cell_type": "code",
      "metadata": {
        "id": "h6eJuKQ49FKg"
      },
      "source": [
        "# 그러면 메쏘드를 활용해서 정확하게 확인해보자\n",
        "# KNeighborsClassifier() 클래스는 주어진 샘플에서 가장 가까운 이웃을 찾아주는\n",
        "# kneighbors() 메서드를 제공해 준다. \n",
        "# (distance, index 값 반환, n_neighbors의 기본 default 값이 5 이므로 이 메쏘드도 5개의 값 반환)"
      ],
      "execution_count": 16,
      "outputs": []
    },
    {
      "cell_type": "code",
      "metadata": {
        "colab": {
          "base_uri": "https://localhost:8080/",
          "height": 297
        },
        "id": "AaGHbZit-Y0z",
        "outputId": "16eec9f7-5d98-4012-b382-f0661c4364bf"
      },
      "source": [
        "distances, indexes = knn.kneighbors([[25,150]])\n",
        "\n",
        "\n",
        "plt.scatter(train_input[:,0],train_input[:,1]) \n",
        "plt.scatter(25,150,marker='*')\n",
        "plt.scatter(train_input[indexes,0],train_input[indexes,1],marker='D')\n",
        "plt.xlabel('length')\n",
        "plt.ylabel('weight')\n",
        "# 해당 산점도 그래프를 사용해서 확인해 보니, 값이 빙어에 더 가깞게 나타남을 알 수 있음"
      ],
      "execution_count": 21,
      "outputs": [
        {
          "output_type": "execute_result",
          "data": {
            "text/plain": [
              "Text(0, 0.5, 'weight')"
            ]
          },
          "metadata": {},
          "execution_count": 21
        },
        {
          "output_type": "display_data",
          "data": {
            "image/png": "[encoded data removed]",
            "text/plain": [
              "<Figure size 432x288 with 1 Axes>"
            ]
          },
          "metadata": {
            "needs_background": "light"
          }
        }
      ]
    },
    {
      "cell_type": "code",
      "metadata": {
        "colab": {
          "base_uri": "https://localhost:8080/"
        },
        "id": "amvSGnNz__kL",
        "outputId": "4c641dfb-b0be-4e91-8a62-c02af8a55317"
      },
      "source": [
        "# 직접 주변의 데이터를 확인하여 결과를 찾아봄\n",
        "# 결과 빙어에 더 가깝게(0) 데이터가 출력이 되었다는 것을\n",
        "# 알 수 있음\n",
        "print(train_input[indexes],\"\\n\")\n",
        "\n",
        "print(train_target[indexes])\n"
      ],
      "execution_count": 20,
      "outputs": [
        {
          "output_type": "stream",
          "name": "stdout",
          "text": [
            "[[[ 25.4 242. ]\n",
            "  [ 15.   19.9]\n",
            "  [ 14.3  19.7]\n",
            "  [ 13.   12.2]\n",
            "  [ 12.2  12.2]]] \n",
            "\n",
            "[[1. 0. 0. 0. 0.]]\n"
          ]
        }
      ]
    },
    {
      "cell_type": "code",
      "metadata": {
        "colab": {
          "base_uri": "https://localhost:8080/"
        },
        "id": "z2wJHum1AOUN",
        "outputId": "ebaac98f-0afa-44b9-b616-6bbfa3b9fa3a"
      },
      "source": [
        "# kneighbors() 매서드 내의 반환값 중 하나인 distances를 확인해서 한번 보면\n",
        "print(distances)\n",
        "# 나머지 4개의 데이터가( 빙어 : 0) 더 먼것을 알 수 있음 \n",
        "# 이를통해 x와 y의 범위가 제대로 표현되지 않아 \n",
        "# 원하는 예상 결과가 아닌 다른 결과가 나옴을 알 수 있음 -> 원하는 값이 나올 수 있도록 정규화를 통해 값을 정리해야 한다."
      ],
      "execution_count": 23,
      "outputs": [
        {
          "output_type": "stream",
          "name": "stdout",
          "text": [
            "[[ 92.00086956 130.48375378 130.73859415 138.32150953 138.39320793]]\n"
          ]
        }
      ]
    },
    {
      "cell_type": "code",
      "metadata": {
        "id": "OrBNRhWIBJOo"
      },
      "source": [
        ""
      ],
      "execution_count": null,
      "outputs": []
    }
  ]
}