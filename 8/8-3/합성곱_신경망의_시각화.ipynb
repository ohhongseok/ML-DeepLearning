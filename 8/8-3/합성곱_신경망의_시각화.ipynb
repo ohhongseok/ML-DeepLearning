{
  "nbformat": 4,
  "nbformat_minor": 0,
  "metadata": {
    "colab": {
      "name": "합성곱 신경망의 시각화.ipynb",
      "provenance": [],
      "authorship_tag": "ABX9TyMiv9qvNgiDnOp13WRemAqz",
      "include_colab_link": true
    },
    "kernelspec": {
      "name": "python3",
      "display_name": "Python 3"
    },
    "language_info": {
      "name": "python"
    }
  },
  "cells": [
    {
      "cell_type": "markdown",
      "metadata": {
        "id": "view-in-github",
        "colab_type": "text"
      },
      "source": [
        "<a href=\"https://colab.research.google.com/github/ohhongseok/ML-DeepLearning/blob/main/8/8-3/%ED%95%A9%EC%84%B1%EA%B3%B1_%EC%8B%A0%EA%B2%BD%EB%A7%9D%EC%9D%98_%EC%8B%9C%EA%B0%81%ED%99%94.ipynb\" target=\"_parent\"><img src=\"https://colab.research.google.com/assets/colab-badge.svg\" alt=\"Open In Colab\"/></a>"
      ]
    },
    {
      "cell_type": "markdown",
      "source": [
        "# 이번장 키워드\n",
        " - 가중치 시각화\n",
        " - 특성 맵 시각화\n",
        " - 함수형 API\n",
        "\n",
        "이번장에서는 가중치와 특성맵을 그림으로 시각화 함 > 신경망 동작원리 이해"
      ],
      "metadata": {
        "id": "bJwQTSWWyKm1"
      }
    },
    {
      "cell_type": "markdown",
      "source": [
        "# 가중치 시각화\n",
        " - 합성곱 층은 여러 필터를 통해 이미지에서 특징을 학습함\n",
        " - 각각의 필터는 커널이라 부르는 가중치와 절편이 있음\n",
        " - 이중 절편은 시각적으로 의미가 있지 않음\n",
        " - 가중치의 경우 이미지 데이터의 어떠한 ***특징을*** 두드러지가 나타내는 특징이 있음"
      ],
      "metadata": {
        "id": "8JYfcQOBH6We"
      }
    },
    {
      "cell_type": "code",
      "execution_count": 1,
      "metadata": {
        "colab": {
          "base_uri": "https://localhost:8080/"
        },
        "id": "JeElqMOxxjyK",
        "outputId": "d0ac70a0-614e-40bc-d60b-e308e6266bcc"
      },
      "outputs": [
        {
          "output_type": "stream",
          "name": "stdout",
          "text": [
            "--2022-01-17 11:33:15--  https://github.com/rickiepark/hg-mldl/raw/master/best-cnn-model.h5\n",
            "Resolving github.com (github.com)... 140.82.113.4\n",
            "Connecting to github.com (github.com)|140.82.113.4|:443... connected.\n",
            "HTTP request sent, awaiting response... 302 Found\n",
            "Location: https://raw.githubusercontent.com/rickiepark/hg-mldl/master/best-cnn-model.h5 [following]\n",
            "--2022-01-17 11:33:16--  https://raw.githubusercontent.com/rickiepark/hg-mldl/master/best-cnn-model.h5\n",
            "Resolving raw.githubusercontent.com (raw.githubusercontent.com)... 185.199.111.133, 185.199.109.133, 185.199.110.133, ...\n",
            "Connecting to raw.githubusercontent.com (raw.githubusercontent.com)|185.199.111.133|:443... connected.\n",
            "HTTP request sent, awaiting response... 200 OK\n",
            "Length: 4049416 (3.9M) [application/octet-stream]\n",
            "Saving to: ‘best-cnn-model.h5’\n",
            "\n",
            "best-cnn-model.h5   100%[===================>]   3.86M  --.-KB/s    in 0.05s   \n",
            "\n",
            "2022-01-17 11:33:16 (78.8 MB/s) - ‘best-cnn-model.h5’ saved [4049416/4049416]\n",
            "\n"
          ]
        }
      ],
      "source": [
        "from tensorflow import keras\n",
        "!wget https://github.com/rickiepark/hg-mldl/raw/master/best-cnn-model.h5\n"
      ]
    },
    {
      "cell_type": "code",
      "source": [
        "model = keras.models.load_model('best-cnn-model.h5')"
      ],
      "metadata": {
        "id": "t6zQpIQcz8l7"
      },
      "execution_count": 2,
      "outputs": []
    },
    {
      "cell_type": "code",
      "source": [
        "# 앞장에서 어떠한 가중치를 확인했는지를 확인해 보기(layer 확인)\n",
        "# 앞장에서 추가했던 합성곱 및 밀집층이 있는것 확인\n",
        "model.layers"
      ],
      "metadata": {
        "colab": {
          "base_uri": "https://localhost:8080/"
        },
        "id": "GNpLO0-w0CIb",
        "outputId": "023a7374-9236-46b2-bfdf-941362d9daa3"
      },
      "execution_count": 3,
      "outputs": [
        {
          "output_type": "execute_result",
          "data": {
            "text/plain": [
              "[<keras.layers.convolutional.Conv2D at 0x7f9ca083db90>,\n",
              " <keras.layers.pooling.MaxPooling2D at 0x7f9ca0817790>,\n",
              " <keras.layers.convolutional.Conv2D at 0x7f9ca083db50>,\n",
              " <keras.layers.pooling.MaxPooling2D at 0x7f9c9cf60d90>,\n",
              " <keras.layers.core.flatten.Flatten at 0x7f9ca0e8bb10>,\n",
              " <keras.layers.core.dense.Dense at 0x7f9c9cf69c10>,\n",
              " <keras.layers.core.dropout.Dropout at 0x7f9c9cf6e290>,\n",
              " <keras.layers.core.dense.Dense at 0x7f9c9cfa5d90>]"
            ]
          },
          "metadata": {},
          "execution_count": 3
        }
      ]
    },
    {
      "cell_type": "markdown",
      "source": [
        "# weights 속성\n",
        " - 각각의 층마다 두개의 리스트 weights[0],weights[1]을 가지고 있음\n",
        " - 첫번째 리스트에서는 커널의 크기(3,3,1), 필터의 크기(32)를 통해 가중치 나타냄\n",
        " - 두번째 리스트에서는 필터의 크기만큼 존재하는 절편의 개수 \n",
        "  > 32개로 필터의 개수랑 동일해야 함, 하나의 필터는 하나의 절편을 가지고 있음 "
      ],
      "metadata": {
        "id": "MaVttKia1OZz"
      }
    },
    {
      "cell_type": "code",
      "source": [
        "# 첫번째 합성곱 층의 가중치 조사\n",
        "conv = model.layers[0]\n",
        "# 각 층마다의 가중치는 weights 속성에 저장되어 있음\n",
        "print(conv.weights[0].shape, conv.weights[1].shape)"
      ],
      "metadata": {
        "colab": {
          "base_uri": "https://localhost:8080/"
        },
        "id": "A_pFZxZ80Wiu",
        "outputId": "20165d17-226a-4355-8576-58bfa030f832"
      },
      "execution_count": 4,
      "outputs": [
        {
          "output_type": "stream",
          "name": "stdout",
          "text": [
            "(3, 3, 1, 32) (32,)\n"
          ]
        }
      ]
    },
    {
      "cell_type": "code",
      "source": [
        "# 전체 가중치를 tensor 클래스의 객체에서 numpy 메서드로 변경 후 평균과 표준편차 계산\n",
        "conv_weights = conv.weights[0].numpy()\n",
        "\n",
        "print(conv_weights.mean(), conv_weights.std())"
      ],
      "metadata": {
        "colab": {
          "base_uri": "https://localhost:8080/"
        },
        "id": "ZO42XkFB121D",
        "outputId": "421ef3bc-d30e-44b9-ee5b-9c8e22892c7d"
      },
      "execution_count": 5,
      "outputs": [
        {
          "output_type": "stream",
          "name": "stdout",
          "text": [
            "-0.0065098377 0.22782646\n"
          ]
        }
      ]
    },
    {
      "cell_type": "code",
      "source": [
        "# 가중치에 대해 히스토그램 그려보기\n",
        "import matplotlib.pyplot as plt\n",
        "plt.hist(conv_weights.reshape(-1, 1))\n",
        "plt.xlabel('weight')\n",
        "plt.ylabel('count')\n",
        "plt.show()"
      ],
      "metadata": {
        "colab": {
          "base_uri": "https://localhost:8080/",
          "height": 279
        },
        "id": "jRWuMbVY2CyG",
        "outputId": "be06c4a9-17a7-43d5-c8fb-9baeb3e78901"
      },
      "execution_count": 6,
      "outputs": [
        {
          "output_type": "display_data",
          "data": {
            "image/png": "[encoded data removed]",
            "text/plain": [
              "<Figure size 432x288 with 1 Axes>"
            ]
          },
          "metadata": {
            "needs_background": "light"
          }
        }
      ]
    },
    {
      "cell_type": "code",
      "source": [
        "# 순서대로 32개의 커널을 출력해 보기\n",
        "fig, axs = plt.subplots(2, 16, figsize=(15,2))\n",
        "\n",
        "for i in range(2):\n",
        "    for j in range(16):\n",
        "        axs[i, j].imshow(conv_weights[:,:,0,i*16 + j], vmin=-0.5, vmax=0.5)\n",
        "        axs[i, j].axis('off')\n",
        "\n",
        "plt.show()"
      ],
      "metadata": {
        "colab": {
          "base_uri": "https://localhost:8080/",
          "height": 134
        },
        "id": "3efQjM2w2L3I",
        "outputId": "130c2bee-df03-4c23-deab-d58236c7d58c"
      },
      "execution_count": 7,
      "outputs": [
        {
          "output_type": "display_data",
          "data": {
            "image/png": "[encoded data removed]",
            "text/plain": [
              "<Figure size 1080x144 with 32 Axes>"
            ]
          },
          "metadata": {
            "needs_background": "light"
          }
        }
      ]
    },
    {
      "cell_type": "markdown",
      "source": [
        "# 훈련하지 않은 빈 합성곱 신경망의 시각화 결과랑 비교해보기"
      ],
      "metadata": {
        "id": "KE4GnMY_211c"
      }
    },
    {
      "cell_type": "code",
      "source": [
        "# 빈 합성곱 층 생성\n",
        "no_training_model = keras.Sequential()\n",
        "\n",
        "no_training_model.add(keras.layers.Conv2D(32, kernel_size=3, activation='relu', \n",
        "                                          padding='same', input_shape=(28,28,1)))\n",
        "\n",
        "# 위에서 만든 모델의 가중치를 no_training_conv에 저장\n",
        "no_training_conv = no_training_model.layers[0]\n",
        "\n",
        "# 앞서 보았던 shape와 동일한 구조임을 확인\n",
        "print(no_training_conv.weights[0].shape, no_training_conv.weights[1].shape)"
      ],
      "metadata": {
        "colab": {
          "base_uri": "https://localhost:8080/"
        },
        "id": "ALopHElN2e9U",
        "outputId": "0ec10283-b396-45e0-ea0e-cc85f95350e1"
      },
      "execution_count": 8,
      "outputs": [
        {
          "output_type": "stream",
          "name": "stdout",
          "text": [
            "(3, 3, 1, 32) (32,)\n"
          ]
        }
      ]
    },
    {
      "cell_type": "code",
      "source": [
        "# 넘파이 배열로 변환하여 시각화 해보기\n",
        "no_training_weights = no_training_conv.weights[0].numpy()\n",
        "\n",
        "print(no_training_weights.mean(), no_training_weights.std())"
      ],
      "metadata": {
        "colab": {
          "base_uri": "https://localhost:8080/"
        },
        "id": "J5sZXxT13SyG",
        "outputId": "8a4e7db8-1223-4013-ee14-573c5418cb22"
      },
      "execution_count": 9,
      "outputs": [
        {
          "output_type": "stream",
          "name": "stdout",
          "text": [
            "-0.0037847762 0.08075323\n"
          ]
        }
      ]
    },
    {
      "cell_type": "code",
      "source": [
        "# 훈련하지 않은 모델의 가중치 출력해보기\n",
        "plt.hist(no_training_weights.reshape(-1, 1))\n",
        "plt.xlabel('weight')\n",
        "plt.ylabel('count')\n",
        "plt.show()\n",
        "# 비교적 고른 분포를 가지고 있고, 이는 텐서플로우가 신경망 가중치를 처음 초기화 할 때\n",
        "# 균등분포에서 랜덤하게 값 선택해서 이렇게 나옴"
      ],
      "metadata": {
        "colab": {
          "base_uri": "https://localhost:8080/",
          "height": 279
        },
        "id": "RIL3UUEj3Z2_",
        "outputId": "93bf2a15-0a4e-49cd-f8fb-0a70ddb243e7"
      },
      "execution_count": 10,
      "outputs": [
        {
          "output_type": "display_data",
          "data": {
            "image/png": "[encoded data removed]",
            "text/plain": [
              "<Figure size 432x288 with 1 Axes>"
            ]
          },
          "metadata": {
            "needs_background": "light"
          }
        }
      ]
    },
    {
      "cell_type": "code",
      "source": [
        "fig, axs = plt.subplots(2, 16, figsize=(15,2))\n",
        "\n",
        "for i in range(2):\n",
        "    for j in range(16):\n",
        "        axs[i, j].imshow(no_training_weights[:,:,0,i*16 + j], vmin=-0.5, vmax=0.5)\n",
        "        axs[i, j].axis('off')\n",
        "\n",
        "plt.show()\n",
        "# 그림도 위의 히스토그램과 마찬가지로 특정 부분이 밝은것이 아닌, 전체적으로 고르게 나타남\n",
        "# 위에 그림에서는 특정 패턴의 부분만 학습한것고 달리 여기에서는 전체적으로 고른 상태의 그림임을\n",
        "# 알 수 있음"
      ],
      "metadata": {
        "colab": {
          "base_uri": "https://localhost:8080/",
          "height": 134
        },
        "id": "P56MZlX73hHS",
        "outputId": "01af2da3-9367-42aa-b37a-3495bbbcaeac"
      },
      "execution_count": 11,
      "outputs": [
        {
          "output_type": "display_data",
          "data": {
            "image/png": "[encoded data removed]",
            "text/plain": [
              "<Figure size 1080x144 with 32 Axes>"
            ]
          },
          "metadata": {
            "needs_background": "light"
          }
        }
      ]
    },
    {
      "cell_type": "markdown",
      "source": [
        "# 함수형 API\n",
        " - 앞선 장에서 모델의 설계방식은 Sequential API를 활용하여 만든것이다.\n",
        " - 이러한 방식으로 만든 경우, 여러 층을 공유하거나 다양한 종류의 입력과 출력을 사용하는 등<BR> 복잡한 모델을 만드는데에는 한계가 있음\n",
        " - 함수형 API는 각 층을 함수로서 정의하여 이를 이용해 신경망을 설계한다.\n",
        " - 이러한 과정을 통해 좀 더복잡한 모델을 만들 수 있게 된다."
      ],
      "metadata": {
        "id": "GbtUgLYJ4H3K"
      }
    },
    {
      "cell_type": "code",
      "source": [
        "print(model.input)\n",
        "# 함수형 api를 통해 input과 model.layers[0].output을 연결하는 새로운 conv_aci 모델을 만들 수 있음\n",
        "conv_acti = keras.Model(model.input, model.layers[0].output)"
      ],
      "metadata": {
        "colab": {
          "base_uri": "https://localhost:8080/"
        },
        "id": "R9Plsaja4BEC",
        "outputId": "589b6599-252d-40db-b74b-7e6a485d5d37"
      },
      "execution_count": 12,
      "outputs": [
        {
          "output_type": "stream",
          "name": "stdout",
          "text": [
            "KerasTensor(type_spec=TensorSpec(shape=(None, 28, 28, 1), dtype=tf.float32, name='conv2d_input'), name='conv2d_input', description=\"created by layer 'conv2d_input'\")\n"
          ]
        }
      ]
    },
    {
      "cell_type": "markdown",
      "source": [
        "# 특성맵 시각화\n",
        " - "
      ],
      "metadata": {
        "id": "BxhlSH9v69aU"
      }
    },
    {
      "cell_type": "code",
      "source": [
        "# 패션 데이터 받은 후 첫번째 데이터 그려보기\n",
        "(train_input, train_target), (test_input, test_target) = keras.datasets.fashion_mnist.load_data()\n",
        "\n",
        "# 첫번째 이미지 그리기\n",
        "plt.imshow(train_input[0], cmap='gray_r')\n",
        "plt.show()"
      ],
      "metadata": {
        "colab": {
          "base_uri": "https://localhost:8080/",
          "height": 467
        },
        "id": "SImKM9vJ67w6",
        "outputId": "471d995f-b26f-4955-81f3-21c9ccc317cc"
      },
      "execution_count": 13,
      "outputs": [
        {
          "output_type": "stream",
          "name": "stdout",
          "text": [
            "Downloading data from https://storage.googleapis.com/tensorflow/tf-keras-datasets/train-labels-idx1-ubyte.gz\n",
            "32768/29515 [=================================] - 0s 0us/step\n",
            "40960/29515 [=========================================] - 0s 0us/step\n",
            "Downloading data from https://storage.googleapis.com/tensorflow/tf-keras-datasets/train-images-idx3-ubyte.gz\n",
            "26427392/26421880 [==============================] - 0s 0us/step\n",
            "26435584/26421880 [==============================] - 0s 0us/step\n",
            "Downloading data from https://storage.googleapis.com/tensorflow/tf-keras-datasets/t10k-labels-idx1-ubyte.gz\n",
            "16384/5148 [===============================================================================================] - 0s 0us/step\n",
            "Downloading data from https://storage.googleapis.com/tensorflow/tf-keras-datasets/t10k-images-idx3-ubyte.gz\n",
            "4423680/4422102 [==============================] - 0s 0us/step\n",
            "4431872/4422102 [==============================] - 0s 0us/step\n"
          ]
        },
        {
          "output_type": "display_data",
          "data": {
            "image/png": "[encoded data removed]",
            "text/plain": [
              "<Figure size 432x288 with 1 Axes>"
            ]
          },
          "metadata": {
            "needs_background": "light"
          }
        }
      ]
    },
    {
      "cell_type": "code",
      "source": [
        "# 앞서 만든 conv_act 모델에 주입하여 특성맵 출력해보기\n",
        "\n",
        "# 첫번째 데이터에 대한 특성 추출\n",
        "inputs = train_input[0:1].reshape(-1, 28, 28, 1)/255.0\n",
        "\n",
        "feature_maps = conv_acti.predict(inputs)\n",
        "\n",
        "# 첫번째 이미지에 대한 feature_maps의 크기\n",
        "print(feature_maps.shape)"
      ],
      "metadata": {
        "colab": {
          "base_uri": "https://localhost:8080/"
        },
        "id": "ZwzSWZ-A7Pwo",
        "outputId": "a4ba0477-2121-4df9-bb57-4c4cd0b94d0d"
      },
      "execution_count": 14,
      "outputs": [
        {
          "output_type": "stream",
          "name": "stdout",
          "text": [
            "(1, 28, 28, 32)\n"
          ]
        }
      ]
    },
    {
      "cell_type": "code",
      "source": [
        "# 학습한 특성의 특성맵 출력해보기,\n",
        "# 총 32개의 필터가 있기에 32개의 속성이 출력된다.\n",
        "\n",
        "fig, axs = plt.subplots(4, 8, figsize=(15,8))\n",
        "\n",
        "for i in range(4):\n",
        "    for j in range(8):\n",
        "        axs[i, j].imshow(feature_maps[0,:,:,i*8 + j])\n",
        "        axs[i, j].axis('off')\n",
        "\n",
        "plt.show()\n",
        "# 각 이미지에서는 강하게 특성을 추출하는 부분을 알 수 있음"
      ],
      "metadata": {
        "colab": {
          "base_uri": "https://localhost:8080/",
          "height": 460
        },
        "id": "n99kC0KO8Ajx",
        "outputId": "a91ba5fc-3397-46ec-d433-71ce04e8ac2f"
      },
      "execution_count": 15,
      "outputs": [
        {
          "output_type": "display_data",
          "data": {
            "image/png": "[encoded data removed]",
            "text/plain": [
              "<Figure size 1080x576 with 32 Axes>"
            ]
          },
          "metadata": {
            "needs_background": "light"
          }
        }
      ]
    },
    {
      "cell_type": "code",
      "source": [
        "# 두번째 합성곱층이 생성한 특성맵도 확인 할 수 있음\n",
        "conv2_acti = keras.Model(model.input, model.layers[2].output)\n",
        "feature_maps = conv2_acti.predict(train_input[0:1].reshape(-1, 28, 28, 1)/255.0)\n",
        "# 풀링층으로 인해 사이즈가 절반으로 줄었고, 필터의 개수를 64개로 늘렸음을 알 수있음\n",
        "# 앞장에서 정의한 모델의 사이즈 그대로\n",
        "print(feature_maps.shape) "
      ],
      "metadata": {
        "colab": {
          "base_uri": "https://localhost:8080/"
        },
        "id": "P9PPE0ES8RJo",
        "outputId": "c721a1aa-96b9-4693-d835-6dd33700df25"
      },
      "execution_count": 17,
      "outputs": [
        {
          "output_type": "stream",
          "name": "stdout",
          "text": [
            "(1, 14, 14, 64)\n"
          ]
        }
      ]
    },
    {
      "cell_type": "code",
      "source": [
        "# 트레이닝 데이터 1개에 대해 64개의 특성맵을 그려보자\n",
        "\n",
        "fig, axs = plt.subplots(8, 8, figsize=(12,12))\n",
        "\n",
        "for i in range(8):\n",
        "    for j in range(8):\n",
        "        axs[i, j].imshow(feature_maps[0,:,:,i*8 + j])\n",
        "        axs[i, j].axis('off')\n",
        "\n",
        "plt.show()"
      ],
      "metadata": {
        "colab": {
          "base_uri": "https://localhost:8080/",
          "height": 683
        },
        "id": "A2_3Uat885vy",
        "outputId": "2adf8e8a-60e4-44de-994b-5a3f94350e97"
      },
      "execution_count": 18,
      "outputs": [
        {
          "output_type": "display_data",
          "data": {
            "image/png": "[encoded data removed]",
            "text/plain": [
              "<Figure size 864x864 with 64 Axes>"
            ]
          },
          "metadata": {
            "needs_background": "light"
          }
        }
      ]
    },
    {
      "cell_type": "markdown",
      "source": [
        "# 이 결과로 알 수있는것\n",
        " - 첫번째 층에서는 데이터에 대해 특성을 잘 알아낼 수있었음\n",
        " - 두번째 층을 확인해 본 결과 앞서 생성된 층 (14,14,32) 에서 어떠한 부위를 감지하는지 직관적으로 이해하기 힘듦\n",
        " - 이러한 현상은(층의 뒤로 갈수록 특성에 대해 직관적으로 이해하지 못하는 것) 모델의 층을 쌓을수록 더욱 심해짐\n",
        " - 이를통해 앞쪽의 층이 이미지의 시각적 정보를 감지하고 뒤쪽에 층은 앞쪽 층의 정보를 바탕으로 추상적인 정보를 학습 하는것을  알 수 있음"
      ],
      "metadata": {
        "id": "fSIjTrqr9Nnr"
      }
    },
    {
      "cell_type": "code",
      "source": [
        ""
      ],
      "metadata": {
        "id": "mAK2-24B9FIF"
      },
      "execution_count": null,
      "outputs": []
    }
  ]
}