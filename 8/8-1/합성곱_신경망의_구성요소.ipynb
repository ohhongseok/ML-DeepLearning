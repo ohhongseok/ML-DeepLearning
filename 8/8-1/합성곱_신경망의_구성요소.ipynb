{
  "nbformat": 4,
  "nbformat_minor": 0,
  "metadata": {
    "colab": {
      "name": "합성곱 신경망의 구성요소.ipynb",
      "provenance": [],
      "authorship_tag": "ABX9TyMdSC5HTSx0Fa25cvgd/Zco",
      "include_colab_link": true
    },
    "kernelspec": {
      "name": "python3",
      "display_name": "Python 3"
    },
    "language_info": {
      "name": "python"
    }
  },
  "cells": [
    {
      "cell_type": "markdown",
      "metadata": {
        "id": "view-in-github",
        "colab_type": "text"
      },
      "source": [
        "<a href=\"https://colab.research.google.com/github/ohhongseok/ML-DeepLearning/blob/main/8/8-1/%ED%95%A9%EC%84%B1%EA%B3%B1_%EC%8B%A0%EA%B2%BD%EB%A7%9D%EC%9D%98_%EA%B5%AC%EC%84%B1%EC%9A%94%EC%86%8C.ipynb\" target=\"_parent\"><img src=\"https://colab.research.google.com/assets/colab-badge.svg\" alt=\"Open In Colab\"/></a>"
      ]
    },
    {
      "cell_type": "markdown",
      "source": [
        "# 이번장 키워드\n",
        " - 합성곱\n",
        " - 필터\n",
        " - 특성맵\n",
        " - 패딩\n",
        " - 스트라이크\n",
        " - 풀링"
      ],
      "metadata": {
        "id": "xTIBAUB8zwmu"
      }
    },
    {
      "cell_type": "code",
      "source": [
        ""
      ],
      "metadata": {
        "id": "ihlwJPqhzwT5"
      },
      "execution_count": null,
      "outputs": []
    },
    {
      "cell_type": "code",
      "execution_count": null,
      "metadata": {
        "id": "JJPecqRWztZI"
      },
      "outputs": [],
      "source": [
        ""
      ]
    }
  ]
}