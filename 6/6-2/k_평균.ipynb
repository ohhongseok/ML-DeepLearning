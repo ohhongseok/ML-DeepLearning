{
  "nbformat": 4,
  "nbformat_minor": 0,
  "metadata": {
    "colab": {
      "name": "k-평균.ipynb",
      "provenance": [],
      "authorship_tag": "ABX9TyPtcdq0kZ6bZ+y3wt3Y+sG+",
      "include_colab_link": true
    },
    "kernelspec": {
      "name": "python3",
      "display_name": "Python 3"
    },
    "language_info": {
      "name": "python"
    }
  },
  "cells": [
    {
      "cell_type": "markdown",
      "metadata": {
        "id": "view-in-github",
        "colab_type": "text"
      },
      "source": [
        "<a href=\"https://colab.research.google.com/github/ohhongseok/ML-DeepLearning/blob/main/6/6-2/k_%ED%8F%89%EA%B7%A0.ipynb\" target=\"_parent\"><img src=\"https://colab.research.google.com/assets/colab-badge.svg\" alt=\"Open In Colab\"/></a>"
      ]
    },
    {
      "cell_type": "markdown",
      "source": [
        "# 이번장 핵심 키워드\n",
        " - k-평균\n",
        " - 클러스터 중심\n",
        " - 엘보우 방법"
      ],
      "metadata": {
        "id": "HJfD7uhSV0TS"
      }
    },
    {
      "cell_type": "code",
      "execution_count": null,
      "metadata": {
        "id": "HPRUAPClVxuC"
      },
      "outputs": [],
      "source": [
        ""
      ]
    }
  ]
}