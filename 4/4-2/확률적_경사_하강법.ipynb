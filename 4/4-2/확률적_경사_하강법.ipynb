{
  "nbformat": 4,
  "nbformat_minor": 0,
  "metadata": {
    "colab": {
      "name": "확률적 경사 하강법.ipynb",
      "provenance": [],
      "collapsed_sections": [],
      "authorship_tag": "ABX9TyO7gEKzQL8uSwy5Bz9iCX/s",
      "include_colab_link": true
    },
    "kernelspec": {
      "name": "python3",
      "display_name": "Python 3"
    },
    "language_info": {
      "name": "python"
    }
  },
  "cells": [
    {
      "cell_type": "markdown",
      "metadata": {
        "id": "view-in-github",
        "colab_type": "text"
      },
      "source": [
        "<a href=\"https://colab.research.google.com/github/ohhongseok/ML-DeepLearning/blob/main/4/4-2/%ED%99%95%EB%A5%A0%EC%A0%81_%EA%B2%BD%EC%82%AC_%ED%95%98%EA%B0%95%EB%B2%95.ipynb\" target=\"_parent\"><img src=\"https://colab.research.google.com/assets/colab-badge.svg\" alt=\"Open In Colab\"/></a>"
      ]
    },
    {
      "cell_type": "markdown",
      "source": [
        "\n",
        "-# 이번장 키워드\n",
        " - 확률적 경사하강법\n",
        " - 손실함수\n",
        " - 에포크\n",
        " - 대량의 데이터에서 분류 모델을 훈련하는 방법을 배우기\n",
        "\n",
        "# 점진적 학습\n",
        " - IDEA : 훈련데이터가 조금씩 쌓여간다(한번에 데이터를 쌓는게 아닌, 계속 조금씩 측정해 나감)\n",
        " - 이럴때 데이터에 대한 훈련 및 저장은 어떻게? \n",
        "  > SOL1. 기존 훈련데이터에 새로운 데이터를 계속 추가해 모델을 그때그때 다시 학습 <br>\n",
        "   - 초반에는 괜찮지만, 몇달 몇년이 지난 후 모델의 학습 시간 및 데이터를 저장하기위한 추가적인 자원이 필요 따라서 <br>지속가능한 방법은 아님<br>\n",
        "\n",
        "  >SOL2. 새로운 데이터를 추가할 때 이전 데이터를 버림으로써 훈련데이터의 크기를 일정하게 유지하는 것\n",
        "   - 데이터셋의 크기는 비교적 일정하게 유지되겠지만, 데이터를 버릴 때 중요한 데이터가 버려질 수 있다.\n",
        "\n",
        "  >***SOL3. 이전에 훈련한 모델을 버리지 않고, 새로운 데이터에 대해서 조금씩만 훈련하는 방식*** \n",
        "   - 이런 방식이면, 기존 데이터를 포함하여 새로 학습하지 않아도 되며, 앞서 학습한 모델에 대해서도 잊지 않을 것\n",
        "   - 이런 방식의 학습방법을 ***점진적 학습(온라인 학습)*** 이라고 한다. \n",
        "   - 점진적 학습의 대표적인 방법으로는 ***확률적 경사 하강법***이 있다.\n",
        "\n",
        "# 확룰적 경사하강법\n",
        " - 무작위하게 고른 경사를 따라 내려가는 방법\n",
        " - 일반적인 등산에서 생각해 보면, 경사가 가장 빠른 곳이 가장 빨리 내려옴, 경사하강법도 마찬가지로 가장 가파른 경사를 따라 원하는 <br>지점으로 내려오는것이 목표 \n",
        " - 마찬가지로 일반적인 등산에서 생각해 보면, 안전을 위해 조금씩 천천히 내려와야 한다. 경사하강법도 마찬가지로, 경사가 가장 가파른 곳을 찾지만, 조금씩 내려오는 것이 중요하다.\n",
        " - 가장 가파른 길을 찾는 방법으로는 전체 샘플을 모두 사용하지 않고, 딱 하나의 샘플을 훈련세트에서 랜덤하게 골라 가장 가파른 길을 찾는다.\n",
        " - 랜덤하게 하나의 샘플을 사용하여 경사를 조금 내려가고, 그다음 훈련 세트에 랜덤하게 또다른 샘플을 하나 선택하여 경사를 조금 내려간다.<br>\n",
        " 이러한 방법으로 전체 샘플을 모두 사용할 때 까지 계속 진행한다.\n",
        " - 만약 이러한 방법으로 전체의 샘플을 사용했음에도 산을 다 못 내려왔으면, 다시 처음부터 시작하며, 모든 샘플을 다시 채워 넣는다.\n",
        " - 이렇게 ***훈련세트를 한번 모두 사용***하는 과정을 ***에포크(epoch)*** 라고 하며, 경사하강법은 수십, 수백번의 에포크를 사용한다.\n",
        " - 확률적 경사하강법과 다르게, 한 학습 turn 당 여러개의 샘플데이터를 뽑아 경사를 내려가는 방식은 ***미니배치 경사 하강법*** 이라 한다.\n",
        " - 극단적으로 한 번 경사로를 따라 이동하기 위해 전체 샘플을 사용할 수 도 있다.\n",
        " 이를 ***배치 경사 하강법*** 이라 한다.\n",
        "  > 배치 경사 하강법은 전체 데이터를 사용하기에 가장 안정적인 방법이지만, 전체 데이터를 사용하기에 컴퓨터의 리소스를 <br>많이 사용하게 된다.\n",
        " - 확률적 경사하깅법 : 훈련 세트를 사용해 산 아래에 있는 최적의 장소로 조금씩 가까워 지게 이동하는 알고리즘, 따라서 훈련 데이터가 모두 준비되어 있지 않고 매일매일 업데이트 되어도 계속 이어나갈 수 있다.\n",
        "\n",
        "# 확률적 경사하강법이 내려가려는 산\n",
        " - 확률적 경사하강법을 통해 내려가려는 산을 ***손실함수(비용함수)*** 라고 한다.\n",
        " - 손실함수는 어떤 문제에서 머신러닝 알고리즘이 얼마나 엉터리인지 측정하는 기준임. 따라서 손실함수의 값이 작을수록 좋은 값이지만, <br>어떤값이 최솟값인지는 모름 \n",
        " - 가능한 많이 기울기를 찾아 내려가 봐야 함(따라서 천천히 많은 기울기를 보는게 중요 - 확률적 경사 하강법)\n",
        " - 최종적으로 결정을 내릴땐, 어떠한 값이 최솟값인지 알아야 함.\n",
        "\n",
        "# 손실함수\n",
        " - 어떤 문제에서 머신러닝 알고리즘이 얼마나 엉터리인지 측정하는 기준\n",
        " - 손실함수 f(x)는 ***미분가능***(연속적) 해야 한다.\n"
      ],
      "metadata": {
        "id": "Cx0fODSm1It8"
      }
    },
    {
      "cell_type": "code",
      "execution_count": 2,
      "metadata": {
        "id": "jYQpfNyZ0IHG"
      },
      "outputs": [],
      "source": [
        "# 확률적 경사 하강법을 사용한 분류모델\n",
        "import pandas as pd\n",
        "fish = pd.read_csv('https://bit.ly/fish_csv_data')"
      ]
    },
    {
      "cell_type": "code",
      "source": [
        "fish.head(5)"
      ],
      "metadata": {
        "id": "lTrmQMAjZYxG",
        "outputId": "b5e61fbe-52f6-43f1-b7d5-af2cab8c23ea",
        "colab": {
          "base_uri": "https://localhost:8080/",
          "height": 214
        }
      },
      "execution_count": 3,
      "outputs": [
        {
          "output_type": "execute_result",
          "data": {
            "text/html": [
              "\n",
              "  <div id=\"df-92d58bcb-fa57-4a47-8b65-973f346b7faf\">\n",
              "    <div class=\"colab-df-container\">\n",
              "      <div>\n",
              "<style scoped>\n",
              "    .dataframe tbody tr th:only-of-type {\n",
              "        vertical-align: middle;\n",
              "    }\n",
              "\n",
              "    .dataframe tbody tr th {\n",
              "        vertical-align: top;\n",
              "    }\n",
              "\n",
              "    .dataframe thead th {\n",
              "        text-align: right;\n",
              "    }\n",
              "</style>\n",
              "<table border=\"1\" class=\"dataframe\">\n",
              "  <thead>\n",
              "    <tr style=\"text-align: right;\">\n",
              "      <th></th>\n",
              "      <th>Species</th>\n",
              "      <th>Weight</th>\n",
              "      <th>Length</th>\n",
              "      <th>Diagonal</th>\n",
              "      <th>Height</th>\n",
              "      <th>Width</th>\n",
              "    </tr>\n",
              "  </thead>\n",
              "  <tbody>\n",
              "    <tr>\n",
              "      <th>0</th>\n",
              "      <td>Bream</td>\n",
              "      <td>242.0</td>\n",
              "      <td>25.4</td>\n",
              "      <td>30.0</td>\n",
              "      <td>11.5200</td>\n",
              "      <td>4.0200</td>\n",
              "    </tr>\n",
              "    <tr>\n",
              "      <th>1</th>\n",
              "      <td>Bream</td>\n",
              "      <td>290.0</td>\n",
              "      <td>26.3</td>\n",
              "      <td>31.2</td>\n",
              "      <td>12.4800</td>\n",
              "      <td>4.3056</td>\n",
              "    </tr>\n",
              "    <tr>\n",
              "      <th>2</th>\n",
              "      <td>Bream</td>\n",
              "      <td>340.0</td>\n",
              "      <td>26.5</td>\n",
              "      <td>31.1</td>\n",
              "      <td>12.3778</td>\n",
              "      <td>4.6961</td>\n",
              "    </tr>\n",
              "    <tr>\n",
              "      <th>3</th>\n",
              "      <td>Bream</td>\n",
              "      <td>363.0</td>\n",
              "      <td>29.0</td>\n",
              "      <td>33.5</td>\n",
              "      <td>12.7300</td>\n",
              "      <td>4.4555</td>\n",
              "    </tr>\n",
              "    <tr>\n",
              "      <th>4</th>\n",
              "      <td>Bream</td>\n",
              "      <td>430.0</td>\n",
              "      <td>29.0</td>\n",
              "      <td>34.0</td>\n",
              "      <td>12.4440</td>\n",
              "      <td>5.1340</td>\n",
              "    </tr>\n",
              "  </tbody>\n",
              "</table>\n",
              "</div>\n",
              "      <button class=\"colab-df-convert\" onclick=\"convertToInteractive('df-92d58bcb-fa57-4a47-8b65-973f346b7faf')\"\n",
              "              title=\"Convert this dataframe to an interactive table.\"\n",
              "              style=\"display:none;\">\n",
              "        \n",
              "  <svg xmlns=\"http://www.w3.org/2000/svg\" height=\"24px\"viewBox=\"0 0 24 24\"\n",
              "       width=\"24px\">\n",
              "    <path d=\"M0 0h24v24H0V0z\" fill=\"none\"/>\n",
              "    <path d=\"M18.56 5.44l.94 2.06.94-2.06 2.06-.94-2.06-.94-.94-2.06-.94 2.06-2.06.94zm-11 1L8.5 8.5l.94-2.06 2.06-.94-2.06-.94L8.5 2.5l-.94 2.06-2.06.94zm10 10l.94 2.06.94-2.06 2.06-.94-2.06-.94-.94-2.06-.94 2.06-2.06.94z\"/><path d=\"M17.41 7.96l-1.37-1.37c-.4-.4-.92-.59-1.43-.59-.52 0-1.04.2-1.43.59L10.3 9.45l-7.72 7.72c-.78.78-.78 2.05 0 2.83L4 21.41c.39.39.9.59 1.41.59.51 0 1.02-.2 1.41-.59l7.78-7.78 2.81-2.81c.8-.78.8-2.07 0-2.86zM5.41 20L4 18.59l7.72-7.72 1.47 1.35L5.41 20z\"/>\n",
              "  </svg>\n",
              "      </button>\n",
              "      \n",
              "  <style>\n",
              "    .colab-df-container {\n",
              "      display:flex;\n",
              "      flex-wrap:wrap;\n",
              "      gap: 12px;\n",
              "    }\n",
              "\n",
              "    .colab-df-convert {\n",
              "      background-color: #E8F0FE;\n",
              "      border: none;\n",
              "      border-radius: 50%;\n",
              "      cursor: pointer;\n",
              "      display: none;\n",
              "      fill: #1967D2;\n",
              "      height: 32px;\n",
              "      padding: 0 0 0 0;\n",
              "      width: 32px;\n",
              "    }\n",
              "\n",
              "    .colab-df-convert:hover {\n",
              "      background-color: #E2EBFA;\n",
              "      box-shadow: 0px 1px 2px rgba(60, 64, 67, 0.3), 0px 1px 3px 1px rgba(60, 64, 67, 0.15);\n",
              "      fill: #174EA6;\n",
              "    }\n",
              "\n",
              "    [theme=dark] .colab-df-convert {\n",
              "      background-color: #3B4455;\n",
              "      fill: #D2E3FC;\n",
              "    }\n",
              "\n",
              "    [theme=dark] .colab-df-convert:hover {\n",
              "      background-color: #434B5C;\n",
              "      box-shadow: 0px 1px 3px 1px rgba(0, 0, 0, 0.15);\n",
              "      filter: drop-shadow(0px 1px 2px rgba(0, 0, 0, 0.3));\n",
              "      fill: #FFFFFF;\n",
              "    }\n",
              "  </style>\n",
              "\n",
              "      <script>\n",
              "        const buttonEl =\n",
              "          document.querySelector('#df-92d58bcb-fa57-4a47-8b65-973f346b7faf button.colab-df-convert');\n",
              "        buttonEl.style.display =\n",
              "          google.colab.kernel.accessAllowed ? 'block' : 'none';\n",
              "\n",
              "        async function convertToInteractive(key) {\n",
              "          const element = document.querySelector('#df-92d58bcb-fa57-4a47-8b65-973f346b7faf');\n",
              "          const dataTable =\n",
              "            await google.colab.kernel.invokeFunction('convertToInteractive',\n",
              "                                                     [key], {});\n",
              "          if (!dataTable) return;\n",
              "\n",
              "          const docLinkHtml = 'Like what you see? Visit the ' +\n",
              "            '<a target=\"_blank\" href=https://colab.research.google.com/notebooks/data_table.ipynb>data table notebook</a>'\n",
              "            + ' to learn more about interactive tables.';\n",
              "          element.innerHTML = '';\n",
              "          dataTable['output_type'] = 'display_data';\n",
              "          await google.colab.output.renderOutput(dataTable, element);\n",
              "          const docLink = document.createElement('div');\n",
              "          docLink.innerHTML = docLinkHtml;\n",
              "          element.appendChild(docLink);\n",
              "        }\n",
              "      </script>\n",
              "    </div>\n",
              "  </div>\n",
              "  "
            ],
            "text/plain": [
              "  Species  Weight  Length  Diagonal   Height   Width\n",
              "0   Bream   242.0    25.4      30.0  11.5200  4.0200\n",
              "1   Bream   290.0    26.3      31.2  12.4800  4.3056\n",
              "2   Bream   340.0    26.5      31.1  12.3778  4.6961\n",
              "3   Bream   363.0    29.0      33.5  12.7300  4.4555\n",
              "4   Bream   430.0    29.0      34.0  12.4440  5.1340"
            ]
          },
          "metadata": {},
          "execution_count": 3
        }
      ]
    },
    {
      "cell_type": "code",
      "source": [
        "\n",
        "fish_input = fish[['Weight','Length','Diagonal','Height','Width']]\n",
        "fish_target = fish['Species']\n",
        "print(type(fish_input))\n",
        "print(type(fish_target))\n"
      ],
      "metadata": {
        "id": "iOEkOGPdaO9S",
        "outputId": "49ef343f-6257-4fbc-fba6-ad1a55153c93",
        "colab": {
          "base_uri": "https://localhost:8080/"
        }
      },
      "execution_count": 13,
      "outputs": [
        {
          "output_type": "stream",
          "name": "stdout",
          "text": [
            "<class 'pandas.core.frame.DataFrame'>\n",
            "<class 'pandas.core.series.Series'>\n"
          ]
        }
      ]
    },
    {
      "cell_type": "code",
      "source": [
        "# input target data 나누기 및 train test split\n",
        "from sklearn.model_selection import train_test_split\n",
        "\n",
        "fish_input = fish[['Weight','Length','Diagonal','Height','Width']].to_numpy()\n",
        "fish_target = fish['Species'].to_numpy()\n",
        "print(type(fish_input))\n",
        "print(type(fish_target))\n",
        "\n",
        "train_input, test_input, train_target, test_target= train_test_split(fish_input, fish_target, random_state=42)"
      ],
      "metadata": {
        "id": "1wj33q1HZnuA",
        "outputId": "894dcc69-f1e1-404b-af7d-830fa2caa4c0",
        "colab": {
          "base_uri": "https://localhost:8080/"
        }
      },
      "execution_count": 14,
      "outputs": [
        {
          "output_type": "stream",
          "name": "stdout",
          "text": [
            "<class 'numpy.ndarray'>\n",
            "<class 'numpy.ndarray'>\n"
          ]
        }
      ]
    },
    {
      "cell_type": "code",
      "source": [
        "# 데이터셋 표준화 및 전처리\n",
        "from sklearn.preprocessing import StandardScaler\n",
        "ss = StandardScaler()\n",
        "ss.fit(train_input)\n",
        "train_scaled = ss.transform(train_input)\n",
        "test_scaled = ss.transform(test_input)"
      ],
      "metadata": {
        "id": "mUZrepqGbAQq"
      },
      "execution_count": 15,
      "outputs": []
    },
    {
      "cell_type": "code",
      "source": [
        ""
      ],
      "metadata": {
        "id": "y9TbLdXjb_GX"
      },
      "execution_count": null,
      "outputs": []
    },
    {
      "cell_type": "code",
      "source": [
        ""
      ],
      "metadata": {
        "id": "nes7fI1ScUV9"
      },
      "execution_count": null,
      "outputs": []
    }
  ]
}