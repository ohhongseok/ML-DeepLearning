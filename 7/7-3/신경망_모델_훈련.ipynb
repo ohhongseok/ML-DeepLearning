{
  "nbformat": 4,
  "nbformat_minor": 0,
  "metadata": {
    "colab": {
      "name": "신경망 모델 훈련.ipynb",
      "provenance": [],
      "authorship_tag": "ABX9TyOkMjtIVUJrJgO4HEGk6/Y9",
      "include_colab_link": true
    },
    "kernelspec": {
      "name": "python3",
      "display_name": "Python 3"
    },
    "language_info": {
      "name": "python"
    }
  },
  "cells": [
    {
      "cell_type": "markdown",
      "metadata": {
        "id": "view-in-github",
        "colab_type": "text"
      },
      "source": [
        "<a href=\"https://colab.research.google.com/github/ohhongseok/ML-DeepLearning/blob/main/7/7-3/%EC%8B%A0%EA%B2%BD%EB%A7%9D_%EB%AA%A8%EB%8D%B8_%ED%9B%88%EB%A0%A8.ipynb\" target=\"_parent\"><img src=\"https://colab.research.google.com/assets/colab-badge.svg\" alt=\"Open In Colab\"/></a>"
      ]
    },
    {
      "cell_type": "markdown",
      "source": [
        "# 키워드\n",
        " - 드롭아웃\n",
        " - 콜백\n",
        " - 조기종료\n",
        "\n",
        "이번장에서는 케라스 API를 활용하여 모델을 훈련하는데 필요한 다양한 도구들을 알아보자"
      ],
      "metadata": {
        "id": "Ri2JNvcENFcw"
      }
    },
    {
      "cell_type": "code",
      "execution_count": 1,
      "metadata": {
        "id": "1aKiojmpNAv1"
      },
      "outputs": [],
      "source": [
        "from tensorflow import keras\n",
        "from sklearn.model_selection import train_test_split\n",
        "\n",
        "(train_input,train_target),(test_input,test_target)= \\\n",
        "keras.datasets.fashion_mnist.load_data()\n",
        "\n",
        "train_scaled = train_input / 255.0\n",
        "\n",
        "train_scaled,val_scaled,train_target,val_target = train_test_split(\n",
        "    train_scaled,train_target,test_size=0.2, random_state=42,)"
      ]
    },
    {
      "cell_type": "code",
      "source": [
        "# 모델 add 함수 만들기, 여기에서는 함수로 모델 만드는 함수를 정의함\n",
        "def model_fn(a_layer=None):\n",
        "    model = keras.Sequential()\n",
        "    model.add(keras.layers.Flatten(input_shape=(28, 28)))\n",
        "    model.add(keras.layers.Dense(100, activation='relu'))\n",
        "    if a_layer:\n",
        "        model.add(a_layer)\n",
        "    model.add(keras.layers.Dense(10, activation='softmax'))\n",
        "    return model"
      ],
      "metadata": {
        "id": "Ix27wmuIQLGJ"
      },
      "execution_count": 2,
      "outputs": []
    },
    {
      "cell_type": "code",
      "source": [
        "model=model_fn() # 간단하게 함수선언으로 모델 생성"
      ],
      "metadata": {
        "id": "T8J9OxH6SmBT"
      },
      "execution_count": 3,
      "outputs": []
    },
    {
      "cell_type": "code",
      "source": [
        "model.summary() # 모델 확인하기"
      ],
      "metadata": {
        "colab": {
          "base_uri": "https://localhost:8080/"
        },
        "id": "X2wByOIzStGW",
        "outputId": "3558c240-20f0-46c3-b3a9-268ef71c19d4"
      },
      "execution_count": 4,
      "outputs": [
        {
          "output_type": "stream",
          "name": "stdout",
          "text": [
            "Model: \"sequential\"\n",
            "_________________________________________________________________\n",
            " Layer (type)                Output Shape              Param #   \n",
            "=================================================================\n",
            " flatten (Flatten)           (None, 784)               0         \n",
            "                                                                 \n",
            " dense (Dense)               (None, 100)               78500     \n",
            "                                                                 \n",
            " dense_1 (Dense)             (None, 10)                1010      \n",
            "                                                                 \n",
            "=================================================================\n",
            "Total params: 79,510\n",
            "Trainable params: 79,510\n",
            "Non-trainable params: 0\n",
            "_________________________________________________________________\n"
          ]
        }
      ]
    },
    {
      "cell_type": "code",
      "source": [
        "# 컴파일 후 학습 진행\n",
        "model.compile(loss='sparse_categorical_crossentropy',metrics='accuracy')\n",
        "# verbose=0 의 의미 >  \n",
        "# 0일 경우 : 훈련중 정보를 보여주지 않음(epoch 진행과정)\n",
        "# 1일 경우 : 훈련의 진행도를 보여주는 진행막대를 보여줌(default)\n",
        "# 2일 경우 : 훈련중 미니배치마다 손실 정보를 출력함\n",
        "history = model.fit(train_scaled,train_target,epochs=5,verbose=0)"
      ],
      "metadata": {
        "id": "dn1y48sjT1Cr"
      },
      "execution_count": 5,
      "outputs": []
    },
    {
      "cell_type": "code",
      "source": [
        "# 훈련의 측정이 담겨있는 history 객체의 history 딕셔너리\n",
        "print(history.history.keys()) \n",
        "# 손실과 정확도의 정보가 담겨있다."
      ],
      "metadata": {
        "colab": {
          "base_uri": "https://localhost:8080/"
        },
        "id": "Wp2oZgiBU6dk",
        "outputId": "0fc5b5b0-4d88-499a-8457-0df90312d203"
      },
      "execution_count": 6,
      "outputs": [
        {
          "output_type": "stream",
          "name": "stdout",
          "text": [
            "dict_keys(['loss', 'accuracy'])\n"
          ]
        }
      ]
    },
    {
      "cell_type": "code",
      "source": [
        "# 각 에포크 마다 손실과 정확도를 그래프화 해서 나타내기\n",
        "import matplotlib.pyplot as plt\n",
        "plt.plot(history.history['loss'])\n",
        "plt.xlabel('epoch')\n",
        "plt.ylabel('loss')\n",
        "plt.show()"
      ],
      "metadata": {
        "colab": {
          "base_uri": "https://localhost:8080/",
          "height": 279
        },
        "id": "NW3p-9bGVGH5",
        "outputId": "62fe4ed2-0b47-48ae-e773-5dee50551b6f"
      },
      "execution_count": 7,
      "outputs": [
        {
          "output_type": "display_data",
          "data": {
            "image/png": "[encoded data removed]",
            "text/plain": [
              "<Figure size 432x288 with 1 Axes>"
            ]
          },
          "metadata": {
            "needs_background": "light"
          }
        }
      ]
    },
    {
      "cell_type": "code",
      "source": [
        "plt.plot(history.history['accuracy'])\n",
        "plt.xlabel('epoch')\n",
        "plt.ylabel('accuracy')\n",
        "plt.show()"
      ],
      "metadata": {
        "colab": {
          "base_uri": "https://localhost:8080/",
          "height": 279
        },
        "id": "wi7uD-vbc__U",
        "outputId": "3bd55e9c-4581-46e9-ee3a-dabdf5fea81b"
      },
      "execution_count": 8,
      "outputs": [
        {
          "output_type": "display_data",
          "data": {
            "image/png": "[encoded data removed]",
            "text/plain": [
              "<Figure size 432x288 with 1 Axes>"
            ]
          },
          "metadata": {
            "needs_background": "light"
          }
        }
      ]
    },
    {
      "cell_type": "code",
      "source": [
        "# 에포크 횟수를 늘려서 loss 측정\n",
        "# 각 에포크 마다 손실과 정확도를 그래프화 해서 나타내기\n",
        "model = model_fn()\n",
        "model.compile(loss='sparse_categorical_crossentropy',metrics='accuracy')\n",
        "history = model.fit(train_scaled,train_target,epochs=20,verbose=0)\n",
        "plt.plot(history.history['loss'])\n",
        "plt.xlabel('epoch')\n",
        "plt.ylabel('loss')\n",
        "plt.show()"
      ],
      "metadata": {
        "colab": {
          "base_uri": "https://localhost:8080/",
          "height": 279
        },
        "id": "6x2gc5BJdfG-",
        "outputId": "b653762a-0f69-4b89-f9f1-597b3d2ff1b5"
      },
      "execution_count": 9,
      "outputs": [
        {
          "output_type": "display_data",
          "data": {
            "image/png": "[encoded data removed]",
            "text/plain": [
              "<Figure size 432x288 with 1 Axes>"
            ]
          },
          "metadata": {
            "needs_background": "light"
          }
        }
      ]
    },
    {
      "cell_type": "markdown",
      "source": [
        "# 검증 손실\n",
        " - 앞서 4장에서 에포크와 과대, 과소적합간의 관계를 알아 보았다\n",
        "  > 에포크의 횟수가 적은 경우 모델이 훈련세트를 덜 학습함 -> 과소모델일 가능성이 높다.<br>\n",
        "  에포크의 횟수가 많은 경우 모델이 훈련세트에 너무 잘 맞음 -> 테스트 점수에는 나쁜 과대모델일 가능성이 높다.\n",
        " - 인공신경망또한 일종의 경사하강법을 사용하기에, 동일한 개념이 여기에도 적용된다.\n",
        " - 에포크의 경우 과대 / 과소적합을 파악하려면 훈련세트와 검증세트의 점수 모두를 파악해야 한다.\n",
        "\n",
        "# 신경망과 정확도, 손실함수의 관계\n",
        " - 앞장에서는 모델의 정확도에 대해 accuracy를 판단하였다.\n",
        " - 하지만, 인공신경망에서는 모델이 최적화 하는 대상이 정확도가 아닌 손실함수이다.\n",
        " - 따라서 모델이 잘 훈련되었는지 판단하려면 ***손실함수***의 값을 확인하는것이 더 중요하다.\n"
      ],
      "metadata": {
        "id": "YUKjoihnmHax"
      }
    },
    {
      "cell_type": "code",
      "source": [
        "\n",
        "model = model_fn()\n",
        "model.compile(loss='sparse_categorical_crossentropy',metrics='accuracy')\n",
        "# 에포크마다 검증손실을 계산하기 위해 케리스모델 fit 과정에서 검증데이터를 전달할 수 있다.\n",
        "# fit 메서드에서 validation_data 파라미터를 통해 검증데이터와 검증 타겟을 넣어 \n",
        "# 매 에포크 마다 검증손실을 계산할 수 있다.\n",
        "history = model.fit(train_scaled,train_target,epochs=20,verbose=0\n",
        "                    ,validation_data=(val_scaled,val_target))\n"
      ],
      "metadata": {
        "id": "P9S-gI4fifxG"
      },
      "execution_count": 10,
      "outputs": []
    },
    {
      "cell_type": "code",
      "source": [
        "print(history.history.keys())\n",
        "# 이전의 key 값과 다르게 검증데이터의 정확도와 손실값이 들어있음"
      ],
      "metadata": {
        "colab": {
          "base_uri": "https://localhost:8080/"
        },
        "id": "Ve4Zi1abG-j9",
        "outputId": "b5c6bd86-0598-4ecf-fce3-b7182351a44e"
      },
      "execution_count": 11,
      "outputs": [
        {
          "output_type": "stream",
          "name": "stdout",
          "text": [
            "dict_keys(['loss', 'accuracy', 'val_loss', 'val_accuracy'])\n"
          ]
        }
      ]
    },
    {
      "cell_type": "code",
      "source": [
        "plt.plot(history.history['loss'])\n",
        "plt.plot(history.history['val_loss'])\n",
        "plt.xlabel('epoch')\n",
        "plt.ylabel('loss')\n",
        "plt.legend(['train','val'])\n",
        "plt.show()\n",
        "\n",
        "# 3번째 에포크 부터 과대적합 모델이 만들어지는 구간\n",
        "# 이 구간을 3장에서 배운 규제를 통해 값을 늦춰보자 "
      ],
      "metadata": {
        "colab": {
          "base_uri": "https://localhost:8080/",
          "height": 279
        },
        "id": "8YgaI_1_H7O9",
        "outputId": "e33ad3fc-ccb9-4f62-9a88-a6be7332eb28"
      },
      "execution_count": 12,
      "outputs": [
        {
          "output_type": "display_data",
          "data": {
            "image/png": "[encoded data removed]",
            "text/plain": [
              "<Figure size 432x288 with 1 Axes>"
            ]
          },
          "metadata": {
            "needs_background": "light"
          }
        }
      ]
    },
    {
      "cell_type": "code",
      "source": [
        "# 이번장에서는 옵티마이저를 통해 규제를 진행\n",
        "\n",
        "model = model_fn()\n",
        "\n",
        "# 옵티마이저 adam 을 활용하여 진행\n",
        "model.compile(loss='sparse_categorical_crossentropy',optimizer='adam',metrics='accuracy')\n",
        "history = model.fit(train_scaled,train_target,epochs=20,verbose=0\n",
        "                    ,validation_data=(val_scaled,val_target))\n",
        "plt.plot(history.history['loss'])\n",
        "plt.plot(history.history['val_loss'])\n",
        "plt.xlabel('epoch')\n",
        "plt.ylabel('loss')\n",
        "plt.legend(['train','val'])\n",
        "plt.show()\n",
        "# adam 옵티마이저를 통해 그려본 검증 및 트레이닝 데이터의 손실값\n",
        "# 앞선 결과보다 더 나은 결과를 내놓았고 adam 옵티마이저가 이 데이터셋에\n",
        "# 잘 맞음을 의미함"
      ],
      "metadata": {
        "colab": {
          "base_uri": "https://localhost:8080/",
          "height": 279
        },
        "id": "qnBLvJL-ItDz",
        "outputId": "4ed789d5-685a-4d64-9785-870455c960c0"
      },
      "execution_count": 13,
      "outputs": [
        {
          "output_type": "display_data",
          "data": {
            "image/png": "[encoded data removed]",
            "text/plain": [
              "<Figure size 432x288 with 1 Axes>"
            ]
          },
          "metadata": {
            "needs_background": "light"
          }
        }
      ]
    },
    {
      "cell_type": "markdown",
      "source": [
        "# 드롭아웃\n",
        " - 신경망에서 사용하는 대표적인 규제방식\n",
        " - 훈련 과정중 층에 있는 일부 뉴런을 랜덤하게 꺼서 과대적합을 막는 방법\n",
        " - 이전층의 뉴런이 랜덤하게 꺼지면 특정 뉴런에 과대하게 의존하는것을 줄일 수 있고 모든 입력에 대해 주의를 기울여야 함\n",
        " - 얼마나 많은 뉴런을 드롭아웃 할지는 사용자가 정해야 하는 하이퍼 파라미터이다.\n",
        " - 케라스에서는 `keras.layers.Dropout()` 클래스로 제공해 준다."
      ],
      "metadata": {
        "id": "2kY7VAltJ3g6"
      }
    },
    {
      "cell_type": "code",
      "source": [
        "# Dropout(ratio) 를 사용하면, ratio (여기에서는 30%) 만큼의\n",
        "# Dropout이 발생해 특정 뉴런은 꺼지고 학습을 돌리게 된다. \n",
        "model = model_fn(keras.layers.Dropout(0.3))\n",
        "model.summary()\n",
        "# summary() 에서 살펴보면 은닉층 뒤에 드롭아웃이 추가되었고, \n",
        "# 훈련되는 모델 파라미터가 없이 규제만 하는것을 알 수 있다. "
      ],
      "metadata": {
        "colab": {
          "base_uri": "https://localhost:8080/"
        },
        "id": "p977ihPAJI4j",
        "outputId": "a028e1d1-59a7-4b2a-be24-0af151cef049"
      },
      "execution_count": 14,
      "outputs": [
        {
          "output_type": "stream",
          "name": "stdout",
          "text": [
            "Model: \"sequential_4\"\n",
            "_________________________________________________________________\n",
            " Layer (type)                Output Shape              Param #   \n",
            "=================================================================\n",
            " flatten_4 (Flatten)         (None, 784)               0         \n",
            "                                                                 \n",
            " dense_8 (Dense)             (None, 100)               78500     \n",
            "                                                                 \n",
            " dropout (Dropout)           (None, 100)               0         \n",
            "                                                                 \n",
            " dense_9 (Dense)             (None, 10)                1010      \n",
            "                                                                 \n",
            "=================================================================\n",
            "Total params: 79,510\n",
            "Trainable params: 79,510\n",
            "Non-trainable params: 0\n",
            "_________________________________________________________________\n"
          ]
        }
      ]
    },
    {
      "cell_type": "code",
      "source": [
        "\n",
        "model.compile(loss='sparse_categorical_crossentropy',optimizer='adam',metrics='accuracy')\n",
        "history = model.fit(train_scaled,train_target,epochs=20,verbose=0\n",
        "                    ,validation_data=(val_scaled,val_target))\n",
        "# keras에서는 모델의 훈련 시에만 Dropout을 진행하기에\n",
        "# 모델을 훈련한 후 평가 및 사용을 할때에는 Dropout을 적용하지 않는다.\n",
        "plt.plot(history.history['loss'])\n",
        "plt.plot(history.history['val_loss'])\n",
        "plt.xlabel('epoch')\n",
        "plt.ylabel('loss')\n",
        "plt.legend(['train','val'])\n",
        "plt.show()\n",
        "# 과대적합도 확실히 줄고 손실의 감소 또한 상승하지 않고 어느정도 유지되는 값으로 나옴\n",
        "# bt 20번의 에포크로 어느정도 과대적합이 되었기에, 10번으로 에포크를 줄이고 훈련"
      ],
      "metadata": {
        "colab": {
          "base_uri": "https://localhost:8080/",
          "height": 280
        },
        "id": "tDfLmj37OmdD",
        "outputId": "c54f1f74-df47-4497-8e9b-75206c9076bc"
      },
      "execution_count": 15,
      "outputs": [
        {
          "output_type": "display_data",
          "data": {
            "image/png": "[encoded data removed]",
            "text/plain": [
              "<Figure size 432x288 with 1 Axes>"
            ]
          },
          "metadata": {
            "needs_background": "light"
          }
        }
      ]
    },
    {
      "cell_type": "markdown",
      "source": [
        "# 모델의 저장과 복원\n",
        " - why? \n",
        "  > 학습자가 이 모델을 나중에 사용하려 할때에는 다시 학습 및 파라미터를 조정할 필요 없이 저장후 불러오기를 하기 위함"
      ],
      "metadata": {
        "id": "TGA0l7rVTrPw"
      }
    },
    {
      "cell_type": "code",
      "source": [
        "# 모델의 저장과 복원\n",
        "\n",
        "# 드롭아웃 0.3에 에포크 10번으로 제한한 모델\n",
        "model = model_fn(keras.layers.Dropout(0.3))\n",
        "model.compile(loss='sparse_categorical_crossentropy',optimizer='adam',metrics='accuracy')\n",
        "history = model.fit(train_scaled,train_target,epochs=10,verbose=0\n",
        "                    ,validation_data=(val_scaled,val_target))"
      ],
      "metadata": {
        "id": "uGRJk44JRiKN"
      },
      "execution_count": 16,
      "outputs": []
    },
    {
      "cell_type": "code",
      "source": [
        "# 훈련된 파라미터 저장\n",
        "model.summary()"
      ],
      "metadata": {
        "colab": {
          "base_uri": "https://localhost:8080/"
        },
        "id": "lDYuOrM7SNVJ",
        "outputId": "f9edf628-2793-45d3-fc53-d908a435d305"
      },
      "execution_count": 17,
      "outputs": [
        {
          "output_type": "stream",
          "name": "stdout",
          "text": [
            "Model: \"sequential_5\"\n",
            "_________________________________________________________________\n",
            " Layer (type)                Output Shape              Param #   \n",
            "=================================================================\n",
            " flatten_5 (Flatten)         (None, 784)               0         \n",
            "                                                                 \n",
            " dense_10 (Dense)            (None, 100)               78500     \n",
            "                                                                 \n",
            " dropout_1 (Dropout)         (None, 100)               0         \n",
            "                                                                 \n",
            " dense_11 (Dense)            (None, 10)                1010      \n",
            "                                                                 \n",
            "=================================================================\n",
            "Total params: 79,510\n",
            "Trainable params: 79,510\n",
            "Non-trainable params: 0\n",
            "_________________________________________________________________\n"
          ]
        }
      ]
    },
    {
      "cell_type": "code",
      "source": [
        "# 훈련된 모델의 파라미터를 저장\n",
        "model.save_weights('model-weight.h5')"
      ],
      "metadata": {
        "id": "yaKj8l8rUCW0"
      },
      "execution_count": 21,
      "outputs": []
    },
    {
      "cell_type": "code",
      "source": [
        "# 모델의 구조와 파라미터를 함께 저장\n",
        "model.save('model-whole.h5')"
      ],
      "metadata": {
        "id": "7CDcMyw7UYNT"
      },
      "execution_count": 22,
      "outputs": []
    },
    {
      "cell_type": "code",
      "source": [
        "!ls -al *.h5"
      ],
      "metadata": {
        "colab": {
          "base_uri": "https://localhost:8080/"
        },
        "id": "rwdxA7SFUg5w",
        "outputId": "c6ef4280-4c3b-42e0-e950-53aee730e9bc"
      },
      "execution_count": 23,
      "outputs": [
        {
          "output_type": "stream",
          "name": "stdout",
          "text": [
            "-rw-r--r-- 1 root root 333448 Jan 12 12:45 model-weight.h5\n",
            "-rw-r--r-- 1 root root 982664 Jan 12 12:45 model-whole.h5\n"
          ]
        }
      ]
    },
    {
      "cell_type": "code",
      "source": [
        ""
      ],
      "metadata": {
        "id": "0lcSybOmUmRm"
      },
      "execution_count": null,
      "outputs": []
    }
  ]
}